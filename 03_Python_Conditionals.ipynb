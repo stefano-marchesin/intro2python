{
 "cells": [
  {
   "cell_type": "markdown",
   "metadata": {
    "slideshow": {
     "slide_type": "slide"
    }
   },
   "source": [
    "#  Introduzione alla Programmazione Python, ver. 0.1\n",
    "\n",
    "## Progetto DIGA\n",
    "\n",
    "### Computational Thinking, Chapter 3\n",
    "\n",
    "#### (Courtesy of Gianmaria Silvello, CT 2024-2025, Communication Strategies)\n",
    "\n",
    "#### Stefano Marchesin\n",
    "<a href=\"mailto:stefano.marchesin@unipd.it\">stefano.marchesin@unipd.it</a><br/>\n",
    "University of Padua, Italy<br/>"
   ]
  },
  {
   "cell_type": "markdown",
   "metadata": {
    "slideshow": {
     "slide_type": "slide"
    }
   },
   "source": [
    "# Python Conditionals and user input"
   ]
  },
  {
   "cell_type": "markdown",
   "metadata": {
    "slideshow": {
     "slide_type": "slide"
    }
   },
   "source": [
    "## if statement\n",
    "\n",
    "An **if statement** is written by using the _if_ keyword.\n",
    "```python\n",
    "if (boolean_condition):\n",
    "    do something\n",
    "```\n",
    "The if statement is defined by the if keyword, a boolean condition and the body of the statement that is executed if the boolean condition is True."
   ]
  },
  {
   "cell_type": "code",
   "execution_count": null,
   "metadata": {},
   "outputs": [],
   "source": [
    "L = [2, 3, 56, 78]\n",
    "\n",
    "if not(0 in L):\n",
    "    print(\"Zero is not in the list\")\n",
    "else:\n",
    "    print(f\"Zero is in the list with index: {L.index(0)}\")"
   ]
  },
  {
   "cell_type": "code",
   "execution_count": null,
   "metadata": {},
   "outputs": [],
   "source": [
    "a = 20\n",
    "b = 11\n",
    "c = 10\n",
    "d = 4\n",
    "\n",
    "if ((a > b) and (b < c)):\n",
    "    print(\"ok\")\n",
    "elif (d < c):\n",
    "    print(\"all right\")\n",
    "else:\n",
    "    print(\"not ok\")\n",
    "\n",
    "print(\"out of the conditional\")"
   ]
  },
  {
   "cell_type": "code",
   "execution_count": null,
   "metadata": {},
   "outputs": [],
   "source": [
    "a = 20\n",
    "b = 11\n",
    "c = 10\n",
    "d = 4\n",
    "\n",
    "if not((a > b) and (b < c)):\n",
    "    if (d < c):\n",
    "        print(\"all right\")\n",
    "    else:\n",
    "        print(\"not ok\")\n",
    "else:\n",
    "    print(\"ok\")\n",
    "\n"
   ]
  },
  {
   "cell_type": "code",
   "execution_count": 1,
   "metadata": {},
   "outputs": [
    {
     "name": "stdin",
     "output_type": "stream",
     "text": [
      "Insert a integer number greater than 10:  2\n"
     ]
    },
    {
     "name": "stdout",
     "output_type": "stream",
     "text": [
      "You did wrong\n"
     ]
    }
   ],
   "source": [
    "a = input(\"Insert a integer number greater than 10: \")\n",
    "a = int(a)\n"
   ]
  },
  {
   "cell_type": "code",
   "execution_count": null,
   "metadata": {
    "slideshow": {
     "slide_type": "fragment"
    }
   },
   "outputs": [],
   "source": [
    "# declare and initialize two variables\n",
    "a = 2\n",
    "b = 56\n",
    "\n",
    "# use of the if statement\n",
    "if (a < b):\n",
    "    print(\"The boolean condition is True\")\n",
    "\n"
   ]
  },
  {
   "cell_type": "code",
   "execution_count": null,
   "metadata": {},
   "outputs": [],
   "source": [
    "# use of the if statement\n",
    "if (a > b):\n",
    "    print(\"The boolean condition is True\")\n"
   ]
  },
  {
   "cell_type": "markdown",
   "metadata": {},
   "source": [
    "## if-else statement\n",
    "\n",
    "The keyword _else_ is used to specify what to do when the boolean condition of the if conditional is evaluated to False.\n",
    "\n",
    "```python\n",
    "if (boolean_condition):\n",
    "    do something\n",
    "else:\n",
    "    do something_else.\n",
    "```"
   ]
  },
  {
   "cell_type": "code",
   "execution_count": null,
   "metadata": {},
   "outputs": [],
   "source": [
    "a = 34\n",
    "b = 55\n",
    "if (a>=b):\n",
    "    print(str(a) + \" is greater or equal than \" + str(b))\n",
    "else:\n",
    "    print(str(a) + \" is smaller than \" + str(b))"
   ]
  },
  {
   "cell_type": "markdown",
   "metadata": {},
   "source": [
    "## if-elif-else statement\n",
    "\n",
    "The keyword _elif_ is used as an alternative to if when the boolean condition of the if statement is False.\n",
    "\n",
    "```python\n",
    "if (boolean_condition1):\n",
    "    do something\n",
    "elif (boolean_condition2):\n",
    "    do something_else.\n",
    "else:\n",
    "    do something different.\n",
    "```"
   ]
  },
  {
   "cell_type": "code",
   "execution_count": null,
   "metadata": {},
   "outputs": [],
   "source": [
    "a = 200\n",
    "b = 30\n",
    "if (b > a):\n",
    "    print(\"b is greater than a\")\n",
    "elif (a == b):\n",
    "    print(\"a and b are equal\")\n",
    "elif (a/2 > b):\n",
    "    print(\"the half of a is greater than b\")\n",
    "else:  \n",
    "    print(\"a is greater than b\")"
   ]
  },
  {
   "cell_type": "code",
   "execution_count": null,
   "metadata": {},
   "outputs": [],
   "source": [
    "# some examples \n",
    "L = [23, 12, 45, 1, 89]\n",
    "\n",
    "if (L[1] > L[2] or L[1] < L[2]):\n",
    "    print(str(L[1]) + \" is not equal to \" + str(L[2]))\n",
    "else:\n",
    "    print(str(L[1]) + \" is equal to \" + str(L[2]))"
   ]
  },
  {
   "cell_type": "code",
   "execution_count": null,
   "metadata": {},
   "outputs": [],
   "source": [
    "L = [23, 12, 35, 14, 16]\n",
    "\n",
    "if (L[0] < L[2] and L[0]+L[2] > 50):\n",
    "    print(\"conjunctive condition is met.\")\n",
    "else:\n",
    "    print(\"conjunctive condition is NOT met.\")"
   ]
  },
  {
   "cell_type": "markdown",
   "metadata": {},
   "source": [
    "## User input\n",
    "\n",
    "We can ask an input from the user by using the <code>**input**</code> command.\n",
    "\n",
    "The synthax is: <code>**input(\"message\")**</code>, where <code>**input**</code> is the command, <code>\"message\"</code> is the string showed to the user and asking for an input. \n",
    "\n",
    "The input given by the user is stored as a <code>**string**</code>. If we need another data type, we need to convert the string, for instance using <code>**int(\"3\")**</code> to convert the string <code>**\"3\"**</code> into the integer <code>**3**</code>."
   ]
  },
  {
   "cell_type": "code",
   "execution_count": null,
   "metadata": {},
   "outputs": [],
   "source": [
    "# declare and initialize an empty list named numbers\n",
    "numbers = []\n",
    "# append to the list the number given by the user\n",
    "numbers.append(input(\"Enter one integer: \"))\n",
    "# notice that the operation is a string\n",
    "type(numbers[0])"
   ]
  },
  {
   "cell_type": "code",
   "execution_count": null,
   "metadata": {},
   "outputs": [],
   "source": [
    "#initialize numbers to an empty string, i.e. remove the element inserted in the cell above\n",
    "numbers = []\n",
    "# convert to int the input of the user and append it to the list\n",
    "numbers.append(int(input(\"Enter one integer: \")))\n",
    "# notice that the operation is an int\n",
    "type(numbers[0])"
   ]
  },
  {
   "cell_type": "code",
   "execution_count": null,
   "metadata": {},
   "outputs": [],
   "source": [
    "numbers.append(int(input(\"Enter one integer: \")))\n",
    "print(numbers)"
   ]
  },
  {
   "cell_type": "code",
   "execution_count": null,
   "metadata": {},
   "outputs": [],
   "source": [
    "# convert to int the input of the user and append it to the list\n",
    "numbers.append(int(input(\"Enter another integer: \")))\n",
    "# notice that the operation is an int\n",
    "type(numbers[1])"
   ]
  },
  {
   "cell_type": "code",
   "execution_count": null,
   "metadata": {},
   "outputs": [],
   "source": [
    "# store in a variable the operation sign\n",
    "ops = input(\"Enter an operator (+,-,/,*,%): \")\n",
    "# notice that the operation is a string\n",
    "type(ops)"
   ]
  },
  {
   "cell_type": "code",
   "execution_count": 20,
   "metadata": {},
   "outputs": [
    {
     "name": "stdin",
     "output_type": "stream",
     "text": [
      "Insert one integer:  7\n",
      "Insert another integer:  8\n",
      "Enter an operator (+,-,/,*,%):  pippo\n"
     ]
    },
    {
     "name": "stdout",
     "output_type": "stream",
     "text": [
      "None\n"
     ]
    }
   ],
   "source": [
    "# perform the calculation\n",
    "# use the conditionals to perform the operation\n",
    "\n",
    "numbers = []\n",
    "numbers.append(int(input(\"Insert one integer: \")))\n",
    "numbers.append(int(input(\"Insert another integer: \")))\n",
    "\n",
    "ops = input(\"Enter an operator (+,-,/,*,%): \")\n",
    "\n",
    "# check if the list is not empty and the ops variable is not null (None)\n",
    "if (len(numbers) == 2 and (ops!=\"\")):\n",
    "    if(ops == \"+\"):\n",
    "        res = numbers[0] + numbers[1]\n",
    "    elif (ops == \"-\"):\n",
    "        res = numbers[0] - numbers[1]\n",
    "    elif (ops == \"*\"):\n",
    "        res = numbers[0] * numbers[1]\n",
    "    elif (ops == \"/\"):\n",
    "        res = numbers[0] / numbers[1]\n",
    "    elif (ops == \"%\"):\n",
    "        res = numbers[0] % numbers[1]\n",
    "    else:\n",
    "        res = None\n",
    "else:\n",
    "    print(\"no operation can be performed\")\n",
    "\n",
    "print(res)\n"
   ]
  },
  {
   "cell_type": "code",
   "execution_count": 11,
   "metadata": {},
   "outputs": [
    {
     "name": "stdin",
     "output_type": "stream",
     "text": [
      "Insert one integer:  6\n",
      "Insert another integer:  8\n"
     ]
    }
   ],
   "source": [
    "numbers = []\n",
    "numbers.append(int(input(\"Insert one integer: \")))\n",
    "numbers.append(int(input(\"Insert another integer: \")))\n"
   ]
  },
  {
   "cell_type": "code",
   "execution_count": 12,
   "metadata": {},
   "outputs": [
    {
     "name": "stdout",
     "output_type": "stream",
     "text": [
      "[6, 8]\n"
     ]
    }
   ],
   "source": [
    "print(numbers)\n"
   ]
  },
  {
   "cell_type": "code",
   "execution_count": 13,
   "metadata": {},
   "outputs": [
    {
     "name": "stdin",
     "output_type": "stream",
     "text": [
      "Enter an operator (+,-,/,*,%):  +\n"
     ]
    }
   ],
   "source": [
    "ops = input(\"Enter an operator (+,-,/,*,%): \")"
   ]
  },
  {
   "cell_type": "code",
   "execution_count": 14,
   "metadata": {},
   "outputs": [
    {
     "name": "stdout",
     "output_type": "stream",
     "text": [
      "+\n"
     ]
    }
   ],
   "source": [
    "print(ops)"
   ]
  },
  {
   "cell_type": "code",
   "execution_count": 24,
   "metadata": {},
   "outputs": [
    {
     "name": "stdin",
     "output_type": "stream",
     "text": [
      "Insert one integer:  4\n",
      "Insert another integer:  5\n",
      "Enter an operator (+,-,/,*,%):  pluto\n"
     ]
    },
    {
     "name": "stdout",
     "output_type": "stream",
     "text": [
      "pluto is not a valid operator. Please insert one operator from this list (+,-,/,*,%)\n"
     ]
    }
   ],
   "source": [
    "# perform the calculation\n",
    "# use the conditionals to perform the operation\n",
    "res = None\n",
    "numbers = []\n",
    "numbers.append(int(input(\"Insert one integer: \")))\n",
    "numbers.append(int(input(\"Insert another integer: \")))\n",
    "\n",
    "ops = input(\"Enter an operator (+,-,/,*,%): \")\n",
    "allowed_operators = [\"+\",\"-\",\"*\",\"/\", \"%\"]\n",
    "\n",
    "# check if the list is not empty and the ops variable is not null (None)\n",
    "if (len(numbers) == 2):\n",
    "    if(ops in allowed_operators):\n",
    "        if(ops == \"+\"):\n",
    "            res = numbers[0] + numbers[1]\n",
    "            print(res)\n",
    "        elif (ops == \"-\"):\n",
    "            res = numbers[0] - numbers[1]\n",
    "            print(res)\n",
    "        elif (ops == \"*\"):\n",
    "            res = numbers[0] * numbers[1]\n",
    "            print(res)\n",
    "        elif (ops == \"/\"):\n",
    "            res = numbers[0] / numbers[1]\n",
    "            print(res)\n",
    "        elif (ops == \"%\"):\n",
    "            res = numbers[0] % numbers[1]\n",
    "            print(res)\n",
    "    else:\n",
    "        print(f\"{ops} is not a valid operator. Please insert one operator from this list (+,-,/,*,%)\")\n",
    "else:\n",
    "    print(\"no operation can be performed\")\n",
    "\n",
    "\n"
   ]
  },
  {
   "cell_type": "code",
   "execution_count": null,
   "metadata": {},
   "outputs": [],
   "source": []
  }
 ],
 "metadata": {
  "celltoolbar": "Slideshow",
  "kernelspec": {
   "display_name": "Python 3 (ipykernel)",
   "language": "python",
   "name": "python3"
  },
  "language_info": {
   "codemirror_mode": {
    "name": "ipython",
    "version": 3
   },
   "file_extension": ".py",
   "mimetype": "text/x-python",
   "name": "python",
   "nbconvert_exporter": "python",
   "pygments_lexer": "ipython3",
   "version": "3.11.7"
  }
 },
 "nbformat": 4,
 "nbformat_minor": 4
}
