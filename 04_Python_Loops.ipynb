{
 "cells": [
  {
   "cell_type": "markdown",
   "metadata": {
    "slideshow": {
     "slide_type": "slide"
    }
   },
   "source": [
    "#  Introduzione alla Programmazione Python, ver. 0.1\n",
    "\n",
    "## Progetto DIGA\n",
    "\n",
    "### Computational Thinking, Chapter 4\n",
    "\n",
    "#### (Courtesy of Gianmaria Silvello, CT 2024-2025, Communication Strategies)\n",
    "\n",
    "#### Stefano Marchesin\n",
    "<a href=\"mailto:stefano.marchesin@unipd.it\">stefano.marchesin@unipd.it</a><br/>\n",
    "University of Padua, Italy<br/>"
   ]
  },
  {
   "cell_type": "markdown",
   "metadata": {
    "slideshow": {
     "slide_type": "slide"
    }
   },
   "source": [
    "# Python loops"
   ]
  },
  {
   "cell_type": "markdown",
   "metadata": {
    "slideshow": {
     "slide_type": "slide"
    }
   },
   "source": [
    "## while loop\n",
    "\n",
    "A <code>while</code> loop repeats a set of instructions until the specified <code>boolean_condition</code> is <code>True</code>.\n",
    "```python\n",
    "while (boolean_condition):\n",
    "    do something\n",
    "```\n",
    "The while loop is defined by the <code>while</code> keyword, a boolean condition and the body of the statement that is **repeately executed**  <code>while</code> the boolean condition is <code>True</code>."
   ]
  },
  {
   "cell_type": "code",
   "metadata": {},
   "source": [
    "# let us define a list of integers\n",
    "L = [23, 34, 56, 1]\n",
    "# declare and initialize a variable i to be used as an index for the list L\n",
    "i = 0\n",
    "# the while loop repeat the instructions while i is smaller than the length of L\n",
    "# with this loop we print all the elements in the list. From i = 0 to i = len(L)-1\n",
    "# notice that i < len(L), an alternative is to write i <= len(L)-1\n",
    "while (i < len(L)):\n",
    "    # inside here (indented) are the instructions repeated by the loop\n",
    "    print(L[i])\n",
    "    # we increment the variable i otherwise we get an infinite loop (otherwise, no exit condition is ever met)\n",
    "    i += 1"
   ],
   "outputs": [],
   "execution_count": null
  },
  {
   "cell_type": "code",
   "metadata": {},
   "source": [
    "L = [9, 2, 56, 22, 17, 89, 11]\n",
    "\n",
    "# define a variable summ initialized to 0\n",
    "summ = 0\n",
    "# define a variable index and initilize to 0 \n",
    "index = 0\n",
    "# use a while loop to sum all the elements in L\n",
    "while (index < len(L)):\n",
    "    # at every iteration of the loop the element in L[i] is summed to summ\n",
    "    summ += L[index]\n",
    "    # update the index to the next value\n",
    "    index += 1\n",
    "\n",
    "# the instruction below here is outside the while loop (note the indentation)\n",
    "print(summ)\n"
   ],
   "outputs": [],
   "execution_count": null
  },
  {
   "cell_type": "code",
   "metadata": {},
   "source": [
    "L = [9, 2, 56, 22, 0, 17, 89, 11]\n",
    "\n",
    "summEven = 0\n",
    "summOdd = 0\n",
    "evenNumbers = 0\n",
    "\n",
    "index = 0\n",
    "\n",
    "while (index < len(L)):\n",
    "    if (L[index]%2==0):\n",
    "        summEven += L[index]\n",
    "        evenNumbers += 1\n",
    "    else:\n",
    "        summOdd += L[index]\n",
    "    index +=1\n",
    "    \n",
    "print(\"Average of even numbers: \" + str(summEven/evenNumbers))\n",
    "\n",
    "print(\"Average of odd numbers: \" + str(summOdd/(len(L)-evenNumbers)))"
   ],
   "outputs": [],
   "execution_count": null
  },
  {
   "cell_type": "markdown",
   "metadata": {},
   "source": [
    "As an **exercise** define a list with name <code>L1</code> with 5 integers and print their sum."
   ]
  },
  {
   "cell_type": "markdown",
   "metadata": {},
   "source": [
    "## The break statement\n",
    "With the <code>break</code> statement we can stop the loop even if the <code>while</code> condition is true:"
   ]
  },
  {
   "cell_type": "code",
   "metadata": {},
   "source": [
    "i = 0\n",
    "# the boolean condition is that the variable i is less than 6\n",
    "while i < 6:\n",
    "    # print i\n",
    "    print(i)\n",
    "    # check if i is 4\n",
    "    if (i == 4):\n",
    "        print(\"i now equals to \" + str(i))\n",
    "        print(\"the loop is going to break\")\n",
    "        # when i is 4 then break the loop\n",
    "        # thi smeans that the while loop never move over 4\n",
    "        break\n",
    "    i += 1"
   ],
   "outputs": [],
   "execution_count": null
  },
  {
   "cell_type": "code",
   "metadata": {},
   "source": [
    "L = [3, 5 , 2, 456, 67, 678, 34]\n",
    "i = 0\n",
    "# the boolean condition is that the variable i is less than 6\n",
    "while i < len(L):\n",
    "    # check if L[i] is 2\n",
    "    if (L[i] == 2):\n",
    "        print(str(i))\n",
    "        break\n",
    "        \n",
    "    i += 1"
   ],
   "outputs": [],
   "execution_count": null
  },
  {
   "cell_type": "markdown",
   "metadata": {},
   "source": [
    "## The for loop\n",
    " A for loop is used for iterating over a sequence (that is either a list, a tuple, a dictionary, a set, or a string).\n",
    "\n",
    "In Python the for loop is like an iterator to scan all the elements in a list (or a dictionary). \n",
    "\n",
    "The for loop in Python follows the following syntax:\n",
    "\n",
    "```python\n",
    "for var in iterable_object:\n",
    "    do something\n",
    "```\n",
    "\n",
    "The main keyword is <code>for</code>, then we have a variable <code>var</code> which is updated at every iteration of the loop. The <code>var</code> iterates over the <code>iterable_object</code> which can be a list, a string, a dictionary, etc. \n",
    "\n",
    "Let's see a practical example.\n",
    "\n",
    "```python\n",
    "L = [1,2,3,4,5]\n",
    "for item in L:\n",
    "    print(item)\n",
    "```\n",
    "\n",
    "The code fragment above defines a for loop where a variable <code>item</code> iterates over a list <code>L</code>. This means that in the first iteration we have <code>item = L[0]</code>, in the second iteration <code>item = L[1]</code> and so on. For each iteration the statements within (indented) the for loop are executed using the current value of <code>item</code>. "
   ]
  },
  {
   "cell_type": "code",
   "metadata": {},
   "source": [
    "# let see what happens in practice\n",
    "print(\"for output\")\n",
    "# the following code fragment prints all the items in the list\n",
    "L = [1,2,3,4,5]\n",
    "for item in L:\n",
    "    print(item)\n",
    "\n",
    "print(\"while output\")\n",
    "# equivalent while loop\n",
    "i = 0\n",
    "while (i < len(L)):\n",
    "    print(L[i])\n",
    "    i+=1"
   ],
   "outputs": [],
   "execution_count": null
  },
  {
   "cell_type": "code",
   "metadata": {},
   "source": [
    "# let's see how the values assigned to item are different from iteration to iteration of the for loop\n",
    "L = [1,2,3,4,5]\n",
    "i = 0\n",
    "for item in L:\n",
    "    print(\"this is iteration #\" + str(i + 1) + \" and item is assigned to the value with index \" + str(i) + \" of L\")\n",
    "    print(item)\n",
    "    # now we need to update i because we are moving to the next iteration of the for loop\n",
    "    i+=1"
   ],
   "outputs": [],
   "execution_count": null
  },
  {
   "cell_type": "markdown",
   "metadata": {},
   "source": [
    "We can iterate also over a string of characters. Let's see an example. "
   ]
  },
  {
   "cell_type": "code",
   "metadata": {},
   "source": [
    "string = \"pippo\"\n",
    "for char in string:\n",
    "    print(char)"
   ],
   "outputs": [],
   "execution_count": null
  },
  {
   "cell_type": "code",
   "metadata": {},
   "source": [
    "# just for fun let's see how we can easily reverse a string\n",
    "string = \"atirrams are aiv attirid al ehc idiv e arucso avles anu ni iavortir im ativ artson id nimmac led ozzem len\"\n",
    "# initialize an empty string\n",
    "rev_string = \"\"\n",
    "for s in string:\n",
    "    #we put the current char stored in the var s in front of the string such that the last \n",
    "    #char will be the first and so on\n",
    "    rev_string = s + rev_string\n",
    "rev_string"
   ],
   "outputs": [],
   "execution_count": null
  },
  {
   "cell_type": "markdown",
   "metadata": {},
   "source": [
    "### The range() Function\n",
    "To loop through a set of code a specified number of times, we can use the <code>range()</code> function,\n",
    "The <code>range()</code> function returns a sequence of numbers, starting from 0 by default, and increments by 1 (by default), and ends at a specified number."
   ]
  },
  {
   "cell_type": "code",
   "metadata": {},
   "source": [
    "summ = 0\n",
    "for i in range(11):\n",
    "    print(i)\n",
    "    summ += i\n",
    "    \n",
    "print(summ)"
   ],
   "outputs": [],
   "execution_count": null
  },
  {
   "cell_type": "code",
   "metadata": {},
   "source": [
    "L = []\n",
    "for i in range(11):\n",
    "    L.append(int(i))\n",
    "    \n",
    "\n",
    "print(L)"
   ],
   "outputs": [],
   "execution_count": null
  },
  {
   "cell_type": "code",
   "metadata": {},
   "source": [
    "# We can use the start parameter of the range(start, end) function\n",
    "# end works and in list slicing so the range goes from start to end-1\n",
    "for i in range(4, 12):\n",
    "    print(i)"
   ],
   "outputs": [],
   "execution_count": null
  },
  {
   "cell_type": "markdown",
   "metadata": {},
   "source": [
    "The <code>range()</code> function defaults to increment the sequence by 1, however it is possible to specify the increment value by adding a third parameter: <code>range(12, 40, 4)</code>"
   ]
  },
  {
   "cell_type": "code",
   "metadata": {},
   "source": [
    "for i in range(4,85,20):\n",
    "    print(i)"
   ],
   "outputs": [],
   "execution_count": null
  },
  {
   "cell_type": "code",
   "metadata": {},
   "source": [],
   "outputs": [],
   "execution_count": null
  },
  {
   "cell_type": "code",
   "metadata": {},
   "source": [
    "L = [1,4,5,6,7,8,10,12]\n",
    "\n",
    "i = len(L)-1\n",
    "for x in L:\n",
    "    print(\"L[1]:\" + str(L[i]))\n",
    "    print(\"x:\"+str(x))\n",
    "    i -= 1\n"
   ],
   "outputs": [],
   "execution_count": null
  },
  {
   "cell_type": "code",
   "metadata": {},
   "source": [
    "# print all the numbers from 1 to 10\n",
    "\n",
    "i = 1\n",
    "while(i <= 10):\n",
    "    print(i)\n",
    "    i+=1\n"
   ],
   "outputs": [],
   "execution_count": null
  },
  {
   "cell_type": "code",
   "metadata": {},
   "source": [
    "# print all the numbers from 1 to 10 with step 3\n",
    "for x in range(1,11,3):\n",
    "    print(x)\n"
   ],
   "outputs": [],
   "execution_count": null
  },
  {
   "cell_type": "code",
   "metadata": {},
   "source": [
    "# print all the numbers from 1 to 10\n",
    "for x in range(1,11):\n",
    "    print(x)"
   ],
   "outputs": [],
   "execution_count": null
  },
  {
   "cell_type": "code",
   "metadata": {},
   "source": [
    "# we want to print the odd numbers in the list L\n",
    "L = [1,2,3,4,5,6,7,8,9,10,13,15,17,20,22,19]\n",
    "\n",
    "for x in L:\n",
    "    if(x%2 != 0):\n",
    "        print(x)\n",
    "\n"
   ],
   "outputs": [],
   "execution_count": null
  },
  {
   "cell_type": "code",
   "metadata": {},
   "source": [
    "# we want to print all the odd numbers from 9 to 19\n",
    "\n",
    "for x in range(9,20,2):\n",
    "    print(x)"
   ],
   "outputs": [],
   "execution_count": null
  },
  {
   "cell_type": "code",
   "metadata": {},
   "source": [
    "# you have a list L of integers. \n",
    "# If the a number is odd then print it 3 times, \n",
    "# if it is even print it 4 times.\n",
    "\n",
    "L = [2, 5, 20, 7, 3, 12]\n",
    "\n",
    "for x in L: \n",
    "    if(x%2 == 0):\n",
    "        # we have an even number, hence we print it four times\n",
    "        for y in range(1,5):\n",
    "            print(x)\n",
    "    else:\n",
    "        # we have an odd number so we print it three times\n",
    "        # just to practice let's use a while\n",
    "        i = 0\n",
    "        while (i<3):\n",
    "            print(x)\n",
    "            i+=1\n",
    "        \n",
    "\n"
   ],
   "outputs": [],
   "execution_count": null
  },
  {
   "cell_type": "code",
   "metadata": {
    "scrolled": true
   },
   "source": [
    "print(L)"
   ],
   "outputs": [],
   "execution_count": null
  },
  {
   "cell_type": "code",
   "metadata": {},
   "source": [
    "L = [45, 22, 56, 79]\n",
    "\n",
    "# print \"hello world\" if the number of even, otherwise do nothing\n",
    "for x in L: \n",
    "    if (x%2==0):\n",
    "        print(\"hello world!\")\n",
    "        "
   ],
   "outputs": [],
   "execution_count": null
  },
  {
   "cell_type": "code",
   "metadata": {},
   "source": [
    "L = [45, 22, 56, 79]\n",
    "\n",
    "# print \"hello world\" if the number of even, otherwise print \"happy world\"\n",
    "for x in L: \n",
    "    if (x%2==0):\n",
    "        print(\"hello world!\")\n",
    "    else:\n",
    "        print(\"happy world!\")\n",
    "        "
   ],
   "outputs": [],
   "execution_count": null
  },
  {
   "cell_type": "code",
   "metadata": {},
   "source": [
    "L = [45, 0, 0, -8, 2, -9, 0]\n",
    "\n",
    "# print \"positive\" if the number is positive, print \"negative\" if it is nevative and print \"zero\", if it is zero\n",
    "for x in L: \n",
    "    if (x>0):\n",
    "        print(\"positive\")\n",
    "    elif (x < 0 ):\n",
    "        print(\"negative\")\n",
    "    else:\n",
    "        print(\"zero\")\n",
    "        "
   ],
   "outputs": [],
   "execution_count": null
  },
  {
   "cell_type": "code",
   "metadata": {},
   "source": [
    "# write a program to record the minutes taken to a person to walk from home to work\n",
    "# we can have only positive walking times\n",
    "# we ask for the daily walking time for a number of times indicated by the user."
   ],
   "outputs": [],
   "execution_count": null
  },
  {
   "cell_type": "code",
   "metadata": {},
   "source": [
    "recordings = []\n",
    "days = 0\n",
    "\n",
    "while (days <= 0):\n",
    "    days = int(input(\"How many days? Please insert a positive integer: \"))\n",
    "    if(days <= 0):\n",
    "        print(\"You inserted a non-positive number, please try again.\")\n",
    "\n",
    "# here we have a positive integer for the variable days\n",
    "while (len(recordings) < days):\n",
    "    time = int(input(\"please insert the daily walking time: \"))\n",
    "    if (time <= 0):\n",
    "        print(f\"You inserted this number: {time}\")\n",
    "        print(\"You need to insert only positive integers\")\n",
    "    else:\n",
    "        recordings.append(time)"
   ],
   "outputs": [],
   "execution_count": null
  },
  {
   "cell_type": "code",
   "metadata": {},
   "source": [
    "# return some statistics to the user. Get the max, the min and the average walking time\n",
    "print(recordings)\n",
    "\n",
    "max = recordings[0]\n",
    "min = recordings[0]\n",
    "average = 0\n",
    "\n",
    "\n",
    "#return the max, min and average\n",
    "for x in recordings:\n",
    "    if (x > max):\n",
    "        max = x\n",
    "\n",
    "    if (x < min):\n",
    "        min = x\n",
    "\n",
    "    average += x \n",
    "\n",
    "average = average / len(recordings)\n",
    "\n",
    "print(f\"The maximum walking time is: {max} minutes.\")\n",
    "print(f\"The minimum walking time is: {min} minutes.\")\n",
    "print(f\"The average walking time is: {average} minutes.\")\n",
    "    \n"
   ],
   "outputs": [],
   "execution_count": null
  },
  {
   "cell_type": "code",
   "metadata": {},
   "source": [
    "# return some statistics to the user. Get the max, the min and the average walking time\n",
    "# ALTERNATIVE using the while loop\n",
    "print(recordings)\n",
    "\n",
    "max = recordings[0]\n",
    "min = recordings[0]\n",
    "average = recordings[0]\n",
    "index = 1\n",
    "\n",
    "while (index < len(recordings)):\n",
    "    if (recordings[index] > max):\n",
    "        max = recordings[index]\n",
    "    if (recordings[index] < min):\n",
    "        min = recordings[index]\n",
    "\n",
    "    average += recordings[index]\n",
    "    index += 1\n",
    "\n",
    "average = average / len(recordings)\n",
    "\n",
    "print(f\"The maximum walking time is: {max} minutes.\")\n",
    "print(f\"The minimum walking time is: {min} minutes.\")\n",
    "print(f\"The average walking time is: {average} minutes.\")\n",
    "    \n"
   ],
   "outputs": [],
   "execution_count": null
  },
  {
   "cell_type": "code",
   "metadata": {},
   "source": [
    "# print True if the list contains at least one negative number\n",
    "\n",
    "L = [2, 3, 4, -2, 5, 6, 7, 8, -12, 14, 15, 16, 19, 10, 100, -2]\n",
    "\n",
    "i = 0\n",
    "for x in L:\n",
    "    i += 1\n",
    "    if(x < 0):\n",
    "        print(\"True\")\n",
    "        break\n",
    "\n",
    "print(f\"Number of iterations done: {i}\")\n",
    "\n"
   ],
   "outputs": [],
   "execution_count": null
  },
  {
   "cell_type": "code",
   "metadata": {},
   "source": [],
   "outputs": [],
   "execution_count": null
  }
 ],
 "metadata": {
  "celltoolbar": "Slideshow",
  "kernelspec": {
   "display_name": "Python 3 (ipykernel)",
   "language": "python",
   "name": "python3"
  },
  "language_info": {
   "codemirror_mode": {
    "name": "ipython",
    "version": 3
   },
   "file_extension": ".py",
   "mimetype": "text/x-python",
   "name": "python",
   "nbconvert_exporter": "python",
   "pygments_lexer": "ipython3",
   "version": "3.9.7"
  }
 },
 "nbformat": 4,
 "nbformat_minor": 4
}
