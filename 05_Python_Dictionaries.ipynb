{
 "cells": [
  {
   "cell_type": "markdown",
   "metadata": {
    "slideshow": {
     "slide_type": "slide"
    }
   },
   "source": [
    "#  Introduzione alla Programmazione Python, ver. 0.1\n",
    "\n",
    "## Progetto DIGA\n",
    "\n",
    "### Computational Thinking, Chapter 5\n",
    "\n",
    "#### (Courtesy of Gianmaria Silvello, CT 2024-2025, Communication Strategies)\n",
    "\n",
    "#### Stefano Marchesin\n",
    "<a href=\"mailto:stefano.marchesin@unipd.it\">stefano.marchesin@unipd.it</a><br/>\n",
    "University of Padua, Italy<br/>"
   ]
  },
  {
   "cell_type": "markdown",
   "metadata": {
    "slideshow": {
     "slide_type": "slide"
    }
   },
   "source": [
    "# Python dictionaries"
   ]
  },
  {
   "cell_type": "markdown",
   "metadata": {
    "slideshow": {
     "slide_type": "slide"
    }
   },
   "source": [
    "## Dictionary\n",
    "\n",
    "-  Very likely, <code>**dict**</code> is the most important built-in Python data structure.\n",
    "\n",
    "-  A more common name for it is **hash map** or **associative array**. \n",
    "\n",
    "-  It is a (hash table) map where elements are stored in pairs (**key**,**value**), like a normal dictionary where you have entries stored as each (**word**,**definition**).\n",
    "\n",
    "-  Keys and Values are of course any type of Python objects! :)\n",
    "\n",
    "- Values are accessed using the keys as we do in normal disctionaries; we get a definition by searching for a specific word.\n",
    "\n",
    "-  The easiest way to create one is by using curly braces <code>**{}**</code> and using colons to separate keys and values\n",
    "\n",
    "Let us see an example. \n",
    "\n",
    "Here, we define a dictionary with name 'dic' containing three elements.\n",
    "\n",
    "```python\n",
    "    dic = {'a': 1, 'b': 2, 'c': [3, 4]}\n",
    "```\n",
    "'dic' contains three keys, each one associated with one Python object.\n",
    "The key with name 'a' is associated to the integer value 1, and the key 'b' with the integer value 2. The key 'c' is associated with a list of values [3,4].   \n",
    "\n",
    "To access an element of a dictionary we specify the key of the element and its value is returned. For this reason we say that a dictionary is accessed by key and not by index as we do with lists. \n",
    "\n",
    "```python\n",
    "    dic['a'] returns 1\n",
    "```\n",
    "\n",
    "Note that to access a value by key we use the square brackets, whereas to create a dictionary we ise the curly brackets. As of now, we have seen three brackets types: round brackets to specify the arguments of a function <code>print(\"hello world\")</code>, square brackets to define a list and to access an element in a list or in a dictionary <code>L = [1,2,5]</code> and curly brackets to define a dictionary <code>D = {'a': 1, 'b': 3} </code>.\n",
    "\n"
   ]
  },
  {
   "cell_type": "code",
   "execution_count": null,
   "metadata": {},
   "outputs": [],
   "source": [
    "# Create an empty dictionary with name d\n",
    "d = {}\n",
    "\n",
    "# Define a dictionary containing some elements.\n",
    "# here we have three keys, each one associated with one Python object.\n",
    "# the key 'a' is \n",
    "d = {'a': 1, 'b': 2, 'c': [3, 4]}\n",
    "\n",
    "# Values can be accessed/added/updated using the same list notation []\n",
    "# Instead of accessing values by index (int), dictionary's values are accessed by key\n",
    "# Retrieve the value associated with the key 'b' in the dictionary above\n",
    "print(\"Retrieve the value associated with the key 'b' = \" + str(d['b']))\n",
    "\n"
   ]
  },
  {
   "cell_type": "code",
   "execution_count": null,
   "metadata": {},
   "outputs": [],
   "source": [
    "d = {'Paolo':'3398978678', 'Matteo':'34598242456', 'Giovanna':'3420943869'}\n",
    "print(d)"
   ]
  },
  {
   "cell_type": "code",
   "execution_count": null,
   "metadata": {},
   "outputs": [],
   "source": [
    "paolonum = d['Paolo']\n",
    "\n",
    "print(paolonum)\n",
    "\n",
    "print('this is Paolo number ' + str(d['Paolo']))"
   ]
  },
  {
   "cell_type": "markdown",
   "metadata": {},
   "source": [
    "## Add elements to a dictionary \n",
    "\n",
    "We can add new elements to the end of the dictionary as we do with the lists. Note that with dictionaries we do not care about **where** we add the elements because we access the values by key and not by index. \n",
    "\n",
    "An element is added using the square brackets.\n",
    "\n",
    "```python\n",
    "dic['key2'] = \"pippo\"\n",
    "```\n",
    "\n",
    "In the code fragment above we see that we add to the dictionary with name <code>dic</code> a key with name <code>key2</code> associated to a string <code>pippo</code>."
   ]
  },
  {
   "cell_type": "code",
   "execution_count": null,
   "metadata": {},
   "outputs": [],
   "source": [
    "print(d)\n"
   ]
  },
  {
   "cell_type": "code",
   "execution_count": null,
   "metadata": {},
   "outputs": [],
   "source": [
    "# print the content of the dictionary d\n",
    "print(d)\n",
    "\n",
    "# Add a new value associated with a new key\n",
    "d['Chiara'] = '4565867970'\n",
    "print(\"After adding a new entry, the dictionary is: \" + str(d))"
   ]
  },
  {
   "cell_type": "markdown",
   "metadata": {},
   "source": [
    "## Update the values in a dictionary\n",
    "\n",
    "The values of a dictionary are updated as the list elements, but remember that we access the value of a dictionary by key and not by index. \n",
    "\n",
    "Given a list <code>L = [2,5,6]</code>, we update the value <code>6</code> to <code>8</code> as <code>L[2] = 8</code>.\n",
    "\n",
    "Given a dictionary <code>d = {'a':2, 'b':5, 'c':6}</code>, we update the value stored with key <code>c</code> from  <code>6</code> to <code>8</code> as <code>d['c'] = 8</code>. \n",
    "\n",
    "You can see that we specify the key of the value to be updated in-between square brackets. "
   ]
  },
  {
   "cell_type": "code",
   "execution_count": null,
   "metadata": {},
   "outputs": [],
   "source": [
    "d['Paolo'] = \"new number\"\n",
    "print(d)"
   ]
  },
  {
   "cell_type": "code",
   "execution_count": null,
   "metadata": {},
   "outputs": [],
   "source": [
    "# access a value by key\n",
    "chiaranumber = d['Chiara']\n",
    "print(d)\n",
    "# update a value\n",
    "d['Chiara'] = '345382382382382'\n",
    "print(d)\n",
    "# add an item\n",
    "d['Pippo'] = '6544646644'\n",
    "print(d)\n"
   ]
  },
  {
   "cell_type": "code",
   "execution_count": null,
   "metadata": {},
   "outputs": [],
   "source": [
    "d = {'a': 1, 'b': 2, 'c': [3, 4]}\n",
    "print(d)\n",
    "# Update the value associated with an existing key\n",
    "# here we update the value of 'a' from an integer to a list of two values.\n",
    "d['a'] = [5, 42]\n",
    "print(\"After updating the value of an existing entry, the dictionary is: \" + str(d))\n",
    "\n"
   ]
  },
  {
   "cell_type": "code",
   "execution_count": null,
   "metadata": {},
   "outputs": [],
   "source": [
    "pluto = len(d['a'])\n",
    "print(pluto)"
   ]
  },
  {
   "cell_type": "code",
   "execution_count": null,
   "metadata": {},
   "outputs": [],
   "source": [
    "# You can check if a dict contains a key using the same syntax \n",
    "# as with checking whether a list or tuple contains a value\n",
    "print(\"Q: Is the key 'c'  in the dictionary? A: \" + str('c' in d))"
   ]
  },
  {
   "cell_type": "markdown",
   "metadata": {},
   "source": [
    "## Delete an element from a dictionary\n",
    "\n",
    "Values can be deleted either using the 'del' keyword.\n",
    "\n",
    "<code>del d['b']</code>\n",
    "\n"
   ]
  },
  {
   "cell_type": "code",
   "execution_count": null,
   "metadata": {},
   "outputs": [],
   "source": [
    "print(d)\n",
    "del d['b']\n",
    "print(\"After deleting an existing entry, the dictionary is: \"  + str(d))\n"
   ]
  },
  {
   "cell_type": "markdown",
   "metadata": {},
   "source": [
    "## Useful methods: <code>keys</code> and <code>values</code>\n",
    "\n",
    "-  The <code>**keys**</code> and <code>**values**</code> methods give you iterators of the dictionary’s keys and values, respectively as sets. \n",
    "\n",
    "-  While the key-value pairs are __not__ in any particular order, these functions output the keys and values in the same order."
   ]
  },
  {
   "cell_type": "code",
   "execution_count": null,
   "metadata": {},
   "outputs": [],
   "source": [
    "# Print the set of keys\n",
    "print(\"The set of dictionary's keys is: \" + str(d.keys()))\n",
    "\n",
    "# Print the set of values\n",
    "print(\"The set of dictionary's values is:  \" + str(d.values()))\n"
   ]
  },
  {
   "cell_type": "code",
   "execution_count": null,
   "metadata": {},
   "outputs": [],
   "source": [
    "nums = {'Paolo':'3398978678', 'Matteo':'34598242456', 'Giovanna':'3420943869'}\n",
    "\n",
    "values = nums.values()\n",
    "\n",
    "print(values)"
   ]
  },
  {
   "cell_type": "markdown",
   "metadata": {},
   "source": [
    "We can use the <code>**keys**</code> method to iterate over all the elements of a dictionary. "
   ]
  },
  {
   "cell_type": "code",
   "execution_count": null,
   "metadata": {},
   "outputs": [],
   "source": [
    "for k in nums.keys():\n",
    "    print(\"The current key at hand is \" + str(k) + \" and the associated value is \" + str(nums[k]))\n",
    "    print(\"The type of the value associated to \" + str(k) + \" is \" + str(type(nums[k])))\n",
    "    print('---')"
   ]
  },
  {
   "cell_type": "code",
   "execution_count": null,
   "metadata": {},
   "outputs": [],
   "source": [
    "for v in nums.values():\n",
    "    print(v)"
   ]
  },
  {
   "cell_type": "markdown",
   "metadata": {},
   "source": [
    "## The method <code>items()</code>\n",
    "\n",
    "The method <code>items()</code> allows us to iterate over the items of a dictionary. \n",
    "Note that an item is composed of a key and a value. \n",
    "\n",
    "With a for loop we can iterate over two variables (key and value) at once. \n",
    "\n",
    "```python\n",
    "dict = {\"a\":2, \"b\":4, \"e\":6}\n",
    "for (k,v) in dict.items():\n",
    "    print(\"the value associted to \" + str(k) + \" is \" + str(v))\n",
    "```\n",
    "\n",
    "The code fragment above iterates over all the items of the dictionary <code>dict</code> and for each entry collects the key k and the value v. "
   ]
  },
  {
   "cell_type": "code",
   "execution_count": null,
   "metadata": {},
   "outputs": [],
   "source": [
    "dict = {\"a\":2, \"b\":4, \"e\":6}\n",
    "i = 1\n",
    "for (pippo,v) in dict.items():\n",
    "    print(\"iteration #\" + str(i) + \" of the for loop: the value associted to key \" + str(k) + \" is the value \" + str(v))\n",
    "    i += 1\n"
   ]
  },
  {
   "cell_type": "code",
   "execution_count": null,
   "metadata": {},
   "outputs": [],
   "source": [
    "dict = {\"a\":2, \"b\":4, \"e\":6}\n",
    "i = 1\n",
    "for k in dict.keys():\n",
    "    print(\"iteration #\" + str(i) + \" of the for loop: the value associted to key \" + str(k) + \" is the value \" + str(dict[k]))\n",
    "    i += 1"
   ]
  },
  {
   "cell_type": "markdown",
   "metadata": {},
   "source": [
    "## Merging dictionaries\n",
    "\n",
    "We can merge two or more dictionaries into one by using different methods. \n",
    "The most straightforward, but verbose, one is by using a for loop. "
   ]
  },
  {
   "cell_type": "code",
   "execution_count": null,
   "metadata": {},
   "outputs": [],
   "source": [
    "# we define two dictionaries\n",
    "d1 = {'a':1, 'b':2}\n",
    "d2 = {'c':3, 'd':5}\n",
    "\n",
    "# we want to merge d2 into d1\n",
    "# we iterate over the keys of d2\n",
    "for k in d2.keys():\n",
    "    #we add an element with key 'k' into d1 and then we assign to 'k' in d1 the values associated to 'k' in d2\n",
    "    d1[k]=d2[k]\n",
    "\n",
    "print(d1)\n",
    "\n"
   ]
  },
  {
   "cell_type": "markdown",
   "metadata": {},
   "source": [
    "An alternative is to use the handy method <code>update</code>."
   ]
  },
  {
   "cell_type": "code",
   "execution_count": null,
   "metadata": {},
   "outputs": [],
   "source": [
    "# we define two dictionaries\n",
    "d1 = {'a':1, 'b':2}\n",
    "d2 = {'c':3, 'd':5}\n",
    "\n",
    "d1.update(d2)\n",
    "print(d1)\n",
    "print(d2)"
   ]
  },
  {
   "cell_type": "markdown",
   "metadata": {},
   "source": [
    "What if we want to merge to dictionaries into a third dictionary without changing the first two? "
   ]
  },
  {
   "cell_type": "code",
   "execution_count": null,
   "metadata": {},
   "outputs": [],
   "source": [
    "# we define two dictionaries\n",
    "d1 = {'a':1, 'b':2}\n",
    "d2 = {'c':3, 'd':5}\n",
    "\n",
    "# we copy d1 into d3 and then we update d3\n",
    "d3 = d1.copy()\n",
    "\n",
    "# we want to merge d2 into d1\n",
    "# we iterate over the keys of d2\n",
    "for k in d2.keys():\n",
    "    #we add an element with key 'k' into d1 and then we assign to 'k' in d1 the values associated to 'k' in d2\n",
    "    d3[k]=d2[k]\n",
    "\n",
    "print(d3)\n",
    "print(d1)\n",
    "print(d2)"
   ]
  },
  {
   "cell_type": "code",
   "execution_count": null,
   "metadata": {},
   "outputs": [],
   "source": [
    "# we define two dictionaries\n",
    "d1 = {'a':1, 'b':2}\n",
    "d2 = {'c':3, 'd':5}\n",
    "\n",
    "# we copy d1 into d3 and then we update d3\n",
    "d3 = d1.copy()\n",
    "d3.update(d2)\n",
    "print(d3)"
   ]
  },
  {
   "cell_type": "code",
   "execution_count": null,
   "metadata": {},
   "outputs": [],
   "source": [
    "# an alternative is to use the unpack operator for dictionaries: ** <-- double star\n",
    "\n",
    "# we define two dictionaries\n",
    "d1 = {'a':1, 'b':2}\n",
    "d2 = {'c':3, 'd':5}\n",
    "\n",
    "d3 = {**d1, **d2}\n",
    "print(d3)\n"
   ]
  },
  {
   "cell_type": "code",
   "execution_count": null,
   "metadata": {},
   "outputs": [],
   "source": [
    "# this is unpacking for lists: *  <- single star\n",
    "\n",
    "L1 = [1,2]\n",
    "L2 = [3,4]\n",
    "\n",
    "L3 = [*L1, *L2]\n",
    "print(L3)"
   ]
  },
  {
   "cell_type": "code",
   "execution_count": null,
   "metadata": {},
   "outputs": [],
   "source": []
  },
  {
   "cell_type": "code",
   "execution_count": null,
   "metadata": {},
   "outputs": [],
   "source": [
    "### Esercizio - La battaglia finale contro il Drago ###"
   ]
  },
  {
   "cell_type": "code",
   "execution_count": null,
   "metadata": {},
   "outputs": [],
   "source": [
    "## Gli avventurieri sono sopravvissuti al primo scontro e ora affrontano di nuovo il drago, \n",
    "# questa volta per sconfiggerlo definitivamente.  \n",
    "\n",
    "## Ogni **avventuriero** ha dei punti vita (`HP`), \n",
    "# un’**arma** con un certo valore di attacco e \n",
    "# un certo numero di **pozioni** per curarsi.  \n",
    "\n",
    "## Il **drago** ha a sua volta dei punti vita e un valore di attacco.\n",
    "\n",
    "## Scrivi un programma che simuli la battaglia finché **uno dei due (gruppo o drago)** viene sconfitto.\n",
    "\n",
    "## Dati iniziali\n",
    "# Esempio di partenza (modificabile a piacere):\n",
    "\n",
    "# avventurieri = {\n",
    "#    \"Tizio\": {\"hp\": 40, \"attacco\": 12, \"pozioni\": 2},\n",
    "#    \"Caio\": {\"hp\": 35, \"attacco\": 15, \"pozioni\": 1},\n",
    "#    \"Sempronio\": {\"hp\": 50, \"attacco\": 10, \"pozioni\": 3}\n",
    "# }\n",
    "\n",
    "# drago = {\"hp\": 120, \"attacco\": 18}"
   ]
  },
  {
   "cell_type": "code",
   "execution_count": null,
   "metadata": {},
   "outputs": [],
   "source": [
    "## Cosa deve fare il programma\n",
    "# Mostra la situazione iniziale: punti vita di tutti e del drago.\n",
    "# Finché il drago è vivo e almeno un avventuriero ha HP > 0:\n",
    "    ## Ogni avventuriero ancora vivo attacca il drago, riducendo i suoi HP.\n",
    "    ## Dopo il turno di tutti, il drago attacca uno degli avventurieri a caso.\n",
    "# Se un avventuriero scende sotto 15 HP e ha ancora pozioni, ne usa una:\n",
    "    ## ogni pozione restituisce +10 HP.\n",
    "# Stampa ogni fase della battaglia (attacchi, cure, morti, HP rimanenti).\n",
    "# Quando il drago o tutti gli avventurieri muoiono, stampa il risultato finale:\n",
    "    ## \"Gli avventurieri hanno sconfitto il drago!\"\n",
    "    ## oppure \"Il drago ha vinto...\""
   ]
  },
  {
   "cell_type": "code",
   "execution_count": null,
   "metadata": {},
   "outputs": [],
   "source": [
    "## Suggerimenti\n",
    "# Per scegliere a caso chi viene colpito usa:\n",
    "    ## import random\n",
    "    ## nome = random.choice(lista_di_nomi)\n",
    "# Usa cicli for per far attaccare tutti gli avventurieri.\n",
    "# Ricorda di controllare se gli HP scendono sotto zero dopo ogni attacco.\n",
    "# Puoi usare .copy() se ti serve creare versioni temporanee delle strutture dati."
   ]
  },
  {
   "cell_type": "code",
   "execution_count": null,
   "metadata": {},
   "outputs": [],
   "source": []
  },
  {
   "cell_type": "code",
   "execution_count": null,
   "metadata": {},
   "outputs": [],
   "source": []
  },
  {
   "cell_type": "code",
   "execution_count": 1,
   "metadata": {},
   "outputs": [],
   "source": [
    "### Esercizio - Il Mercato degli Avventurieri ###"
   ]
  },
  {
   "cell_type": "code",
   "execution_count": null,
   "metadata": {},
   "outputs": [],
   "source": [
    "# Dopo aver sconfitto il drago, gli avventurieri arrivano in un villaggio per vendere e comprare oggetti.\n",
    "# Nel mercato ci sono diversi oggetti, ciascuno con un prezzo in monete d’oro.\n",
    "# Ecco un esempio di dizionario che rappresenta il mercato:\n",
    "\n",
    "# mercato = {\n",
    "#     \"pozione\": 5,\n",
    "#     \"spada\": 20,\n",
    "#     \"scudo\": 15,\n",
    "#     \"arco\": 18,\n",
    "#     \"armatura\": 25\n",
    "# }\n",
    "\n",
    "# Ogni avventuriero ha un certo numero di monete, rappresentato in una lista:\n",
    "# avventurieri = [30, 12, 8]"
   ]
  },
  {
   "cell_type": "code",
   "execution_count": null,
   "metadata": {},
   "outputs": [],
   "source": [
    "## Cosa deve fare il programma\n",
    "# Mostra il contenuto del mercato e i prezzi di ogni oggetto.\n",
    "# Per ogni avventuriero:\n",
    "    ## chiedi che oggetto vuole comprare (usando input());\n",
    "    ## controlla se ha abbastanza monete;\n",
    "    ## se può comprarlo, sottrai il prezzo dal suo denaro e stampa un messaggio di successo;\n",
    "    ## se non può permetterselo, stampa un messaggio diverso.\n",
    "# Alla fine, mostra quante monete ha ancora ciascun avventuriero.\n",
    "\n",
    "##(Facoltativo – livello avanzato)\n",
    "# Permetti di comprare più di un oggetto, finché l’utente scrive \"stop\" per terminare gli acquisti.\n",
    "# Tieni traccia degli oggetti comprati in un dizionario:\n",
    "\n",
    "# inventario = {\n",
    "#     \"avventuriero_0\": [\"spada\", \"scudo\"],\n",
    "#     \"avventuriero_1\": [\"pozione\"]\n",
    "# }"
   ]
  },
  {
   "cell_type": "code",
   "execution_count": null,
   "metadata": {},
   "outputs": [],
   "source": [
    "## Suggerimenti\n",
    "# Per leggere le chiavi e i valori del dizionario puoi usare .items().\n",
    "# Usa cicli for o while per gestire più avventurieri e più acquisti.\n",
    "# Ricorda di controllare se l’oggetto richiesto esiste nel dizionario del mercato.\n",
    "# Per copiare liste o dizionari senza collegarli direttamente, puoi usare .copy()."
   ]
  }
 ],
 "metadata": {
  "celltoolbar": "Slideshow",
  "kernelspec": {
   "display_name": "Python 3 (ipykernel)",
   "language": "python",
   "name": "python3"
  },
  "language_info": {
   "codemirror_mode": {
    "name": "ipython",
    "version": 3
   },
   "file_extension": ".py",
   "mimetype": "text/x-python",
   "name": "python",
   "nbconvert_exporter": "python",
   "pygments_lexer": "ipython3",
   "version": "3.9.7"
  }
 },
 "nbformat": 4,
 "nbformat_minor": 4
}
