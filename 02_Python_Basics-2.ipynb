{
 "cells": [
  {
   "cell_type": "markdown",
   "metadata": {
    "slideshow": {
     "slide_type": "slide"
    }
   },
   "source": [
    "#  Introduzione alla Programmazione Python, ver. 0.1\n",
    "\n",
    "## Progetto DIGA\n",
    "\n",
    "### Computational Thinking, Chapter 2\n",
    "#### (Courtesy of Gianmaria Silvello, CT 2024-2025, Communication Strategies)\n",
    "#### Stefano Marchesin\n",
    "<a href=\"mailto:stefano.marchesin@unipd.it\">stefano.marchesin@unipd.it</a><br/>\n",
    "University of Padua, Italy<br/>"
   ]
  },
  {
   "cell_type": "markdown",
   "metadata": {
    "slideshow": {
     "slide_type": "slide"
    }
   },
   "source": [
    "# Python Lists"
   ]
  },
  {
   "cell_type": "markdown",
   "metadata": {
    "slideshow": {
     "slide_type": "slide"
    }
   },
   "source": [
    "## Lists\n",
    "\n",
    "***List*** is a collection of items which is ordered and changeable. Lists allow duplicate elements.\n",
    "\n",
    "In Python lists are written with **square brackets**.\n",
    "\n",
    "This is a list with _name_ L containing 4 integers:\n",
    "```python\n",
    "L = [2,3,7,1]\n",
    "```\n",
    "\n",
    "The length of a list L is returned by the command ```python len(L) ``` notice that _len_ is the command and _L_ is the name of the list.\n",
    "\n",
    "Each element in a Python list has an index. Indexes start from zero (\\\\(0\\\\)) and go up to \\\\(n-1\\\\) where \\\\(n\\\\) is the length of the list.\n",
    "\n",
    "To return an element stored in a specific index _i_ in a list _L_, the command is ```python L[i] ``` where \\\\(i \\in [0, n-1]\\\\) = \\\\(i \\in [0, len(L)-1]\\\\)\n"
   ]
  },
  {
   "cell_type": "code",
   "execution_count": 12,
   "metadata": {
    "slideshow": {
     "slide_type": "fragment"
    }
   },
   "outputs": [
    {
     "name": "stdout",
     "output_type": "stream",
     "text": [
      "list1 is [3, 6, 2, 4, 56]\n",
      "[3, 2, 5, 'pippo', 56, 'pluto']\n",
      "Length of list1: 5\n",
      "Length of list2: 6\n",
      "list1 is [3, 6, 2, 4, 56]\n"
     ]
    }
   ],
   "source": [
    "# declare and initialize two variables\n",
    "a = 2\n",
    "b = 56\n",
    "\n",
    "# declare and initialize a list\n",
    "# as you see we can put numbers and variables in a list\n",
    "list1 = [3, 6, a, 4, b]\n",
    "print(\"list1 is \" + str(list1))\n",
    "\n",
    "# We can also define a list with heterogeneous data type mixing, say, integers and strings\n",
    "list2 = [3, a, 5, \"pippo\", b, \"pluto\"]\n",
    "print(list2)\n",
    "\n",
    "# return and print the length of list1 and list2\n",
    "print(\"Length of list1: \" + str(len(list1)))\n",
    "print(\"Length of list2: \" + str(len(list2)))\n",
    "\n",
    "a = 34\n",
    "\n",
    "print(\"list1 is \" + str(list1))"
   ]
  },
  {
   "cell_type": "code",
   "execution_count": 8,
   "metadata": {
    "slideshow": {
     "slide_type": "fragment"
    }
   },
   "outputs": [
    {
     "data": {
      "text/plain": [
       "3"
      ]
     },
     "execution_count": 8,
     "metadata": {},
     "output_type": "execute_result"
    }
   ],
   "source": [
    "# return the first element of list1\n",
    "list1[0]"
   ]
  },
  {
   "cell_type": "code",
   "execution_count": 17,
   "metadata": {
    "slideshow": {
     "slide_type": "fragment"
    }
   },
   "outputs": [
    {
     "name": "stdout",
     "output_type": "stream",
     "text": [
      "56\n"
     ]
    },
    {
     "data": {
      "text/plain": [
       "56"
      ]
     },
     "execution_count": 17,
     "metadata": {},
     "output_type": "execute_result"
    }
   ],
   "source": [
    "length1 = len(list1)\n",
    "\n",
    "lastEl = list1[length1-1] \n",
    "print(lastEl)\n",
    "\n",
    "# return the last element of list1\n",
    "print(list1[len(list1)-1])"
   ]
  },
  {
   "cell_type": "markdown",
   "metadata": {
    "slideshow": {
     "slide_type": "slide"
    }
   },
   "source": [
    "### Errors\n",
    "\n",
    "A typical error when you try to access elements in a list is the ***index out of range*** error. \n",
    "\n",
    "For instance if we define a list L with 3 elements \n",
    "\n",
    "```python\n",
    "L = [2,3,7]\n",
    "```\n",
    "\n",
    "We cannot access the element with index 3 since the indexes go from 0 to 2. \n"
   ]
  },
  {
   "cell_type": "code",
   "execution_count": null,
   "metadata": {
    "slideshow": {
     "slide_type": "fragment"
    }
   },
   "outputs": [],
   "source": [
    "# notice the index out of range error returned if you try to access an element not in the list\n",
    "# in the following we try to access the element with index 5 but the gratest index in list1 is 4\n",
    "# since the length of the list is 5, but we start the indexes from 0, so 0,1,2,3,4\n",
    "\n",
    "\n",
    "list1[len(list1)] #list1[5]"
   ]
  },
  {
   "cell_type": "code",
   "execution_count": 94,
   "metadata": {},
   "outputs": [
    {
     "name": "stdout",
     "output_type": "stream",
     "text": [
      "[1, 2, 3, 4]\n"
     ]
    }
   ],
   "source": [
    "\n",
    "\n",
    "A = [1,2,3,4,5,6,7,8,9]\n",
    "\n",
    "B = A[:4]\n",
    "\n",
    "print(B)\n"
   ]
  },
  {
   "cell_type": "code",
   "execution_count": null,
   "metadata": {},
   "outputs": [],
   "source": []
  },
  {
   "cell_type": "code",
   "execution_count": null,
   "metadata": {},
   "outputs": [],
   "source": []
  },
  {
   "cell_type": "code",
   "execution_count": null,
   "metadata": {},
   "outputs": [],
   "source": []
  },
  {
   "cell_type": "markdown",
   "metadata": {},
   "source": [
    "### Nested lists\n",
    "\n",
    "We can nest lists one inside the other, basically making lists of lists. \n",
    "\n",
    "This is a list containing an element and two nested lists\n",
    "```python\n",
    "L3 = [10, [1,2], [3,4]]\n",
    "```\n",
    "\n",
    "If we access the element stored at index 1 we get\n",
    "\n",
    "```python\n",
    "L3[1] is [1,2]\n",
    "```\n",
    "\n",
    "This means that we can assess also the nested elements by using nested indexing.\n",
    "The following fragment accesses the element with index 1 in L3 and then the element with index 0 within the sublist _[1,2]_ returned by L3[1]\n",
    "\n",
    "```python\n",
    "L3[1][0] is 1\n",
    "```\n",
    "\n",
    "\n",
    "\n",
    "In the following code fragment we create two lists L1 and L2 and then we create a third list L3 containing some elements and also L1 and L2. \n",
    "\n",
    "![](./img/Python-Nested-List-Indexing.png)\n",
    "\n",
    "In the figure above we can see a visual representation of three nested lists.\n",
    "\n",
    "The list L above contains five elements\n",
    "\n",
    "```python\n",
    "len(L) = 5\n",
    "\n",
    "L[0] = 'a'\n",
    "L[1] = 'b'\n",
    "L[2] = ['cc', 'dd', ['eee', 'fff']]\n",
    "L[3] = 'g'\n",
    "L[4] = 'h'\n",
    "\n",
    "```\n",
    "\n",
    "We can access the sublists\n",
    "```python\n",
    "L[2] = ['cc', 'dd', ['eee', 'fff']]\n",
    "```\n",
    "returns the list a list containing two elements and one list for a total of three elements ```python len(L[2]) = 3 ```\n",
    "\n",
    "```python\n",
    "L[2][0] = 'cc'\n",
    "```\n",
    "returns the first element (index 0) in the sublist contained in L[2]\n",
    "\n",
    "```python\n",
    "L[2][2] = ['eee', 'fff']\n",
    "```\n",
    "returns the last element (index 2) in the sublist contained in L[2] which is a list itself.\n",
    "\n",
    "```python\n",
    "L[2][2][1] = 'fff'\n",
    "```\n",
    "in turn we can access an element with is at the third level of nesting"
   ]
  },
  {
   "cell_type": "code",
   "execution_count": 47,
   "metadata": {},
   "outputs": [
    {
     "name": "stdout",
     "output_type": "stream",
     "text": [
      "[1, 2]\n",
      "[10, [1, 2], 11, [3, 4]]\n"
     ]
    }
   ],
   "source": [
    "L1 = [1,2]\n",
    "L2 = [3,4]\n",
    "\n",
    "L3 = [10, L1, 11, L2]\n",
    "\n",
    "# we can see that the element with index 1 in L3 returns a list and not a single element\n",
    "print(L3[1])\n",
    "print(L3)"
   ]
  },
  {
   "cell_type": "code",
   "execution_count": 48,
   "metadata": {},
   "outputs": [
    {
     "data": {
      "text/plain": [
       "1"
      ]
     },
     "execution_count": 48,
     "metadata": {},
     "output_type": "execute_result"
    }
   ],
   "source": [
    "# we can see that we can access a specific element using nested indexing\n",
    "L3[1][0] "
   ]
  },
  {
   "cell_type": "code",
   "metadata": {
    "ExecuteTime": {
     "end_time": "2025-09-17T21:26:40.417207Z",
     "start_time": "2025-09-17T21:26:40.406986Z"
    }
   },
   "source": [
    "# let's define the lists in the figure above and access the elements as in the figures\n",
    "L = ['a', 'b', ['cc', 'dd', ['eee', 'fff']], 'g', 'h']\n",
    "\n",
    "print(len(L[2][2]))\n",
    "\n",
    "L[2][2][0]"
   ],
   "outputs": [
    {
     "name": "stdout",
     "output_type": "stream",
     "text": [
      "2\n"
     ]
    },
    {
     "data": {
      "text/plain": [
       "'eee'"
      ]
     },
     "execution_count": 2,
     "metadata": {},
     "output_type": "execute_result"
    }
   ],
   "execution_count": 2
  },
  {
   "cell_type": "code",
   "execution_count": 50,
   "metadata": {},
   "outputs": [
    {
     "data": {
      "text/plain": [
       "['cc', 'dd', ['eee', 'fff']]"
      ]
     },
     "execution_count": 50,
     "metadata": {},
     "output_type": "execute_result"
    }
   ],
   "source": [
    "# note that L[2] returns the nested lists\n",
    "L[2]"
   ]
  },
  {
   "cell_type": "code",
   "execution_count": 51,
   "metadata": {},
   "outputs": [
    {
     "data": {
      "text/plain": [
       "3"
      ]
     },
     "execution_count": 51,
     "metadata": {},
     "output_type": "execute_result"
    }
   ],
   "source": [
    "# length of the sublist\n",
    "len(L[2])"
   ]
  },
  {
   "cell_type": "code",
   "execution_count": 52,
   "metadata": {},
   "outputs": [
    {
     "data": {
      "text/plain": [
       "'cc'"
      ]
     },
     "execution_count": 52,
     "metadata": {},
     "output_type": "execute_result"
    }
   ],
   "source": [
    "# we can access the sublists\n",
    "L[2][0]"
   ]
  },
  {
   "cell_type": "code",
   "execution_count": 53,
   "metadata": {},
   "outputs": [
    {
     "data": {
      "text/plain": [
       "['eee', 'fff']"
      ]
     },
     "execution_count": 53,
     "metadata": {},
     "output_type": "execute_result"
    }
   ],
   "source": [
    "# two levels of nesting\n",
    "L[2][2]"
   ]
  },
  {
   "cell_type": "code",
   "execution_count": 54,
   "metadata": {},
   "outputs": [
    {
     "data": {
      "text/plain": [
       "'fff'"
      ]
     },
     "execution_count": 54,
     "metadata": {},
     "output_type": "execute_result"
    }
   ],
   "source": [
    "# three levels of nesting\n",
    "L[2][2][1]"
   ]
  },
  {
   "cell_type": "markdown",
   "metadata": {},
   "source": [
    "### List subsetting\n",
    "\n",
    "We can create subset of a list by accessing and copying part of a list into another one. \n",
    "\n",
    "```python\n",
    "L = ['cc', 'dd', ['eee', 'fff']]\n",
    "\n",
    "L2 = L[1]\n",
    "```\n",
    "the fragment above creates a list L2 containing a single element from L. \n",
    "\n",
    "```python\n",
    "L = ['cc', 'dd', ['eee', 'fff']]\n",
    "\n",
    "L2 = L[2]\n",
    "```\n",
    "the fragment above creates a list L2 containing a list with two elements extracted L. \n",
    "\n",
    "We can use ***ranges*** to subset a list. A range is specified by indicating the starting index and the end index separated by a colon: ```python [1:3]```\n",
    "We must be careful because in ```python [1:3]``` _1_ is the starting index, but the end index is _3-1 = 2_. \n",
    "\n",
    "```python\n",
    "L = ['cc', 'dd', ['eee', 'fff']]\n",
    "\n",
    "L2 = L[0:2]\n",
    "```\n",
    "returns the list ```python L2 = ['cc', 'dd'] ``` where you see that only the elements L[0] and L[1] have been considered. The element L[2] is excluded from the subsetting.\n",
    "\n",
    "We can return the last element of a list in two ways:\n",
    "\n",
    "```python\n",
    "L = ['cc', 'dd', ['eee', 'fff']]\n",
    "L[-1]\n",
    "# or\n",
    "L[len(L)-1]\n",
    "```\n",
    "\n",
    "In Python we can use negative indexes meaning that we start counting from the end of the list. L[-1] returns the last element in L, L[-2] returns the penultimate element and so on. \n",
    "\n",
    "This example returns the items from index -4 (included) to index -1 (excluded).  \n",
    "\n",
    "```python\n",
    "thislist = [\"apple\", \"banana\", \"cherry\", \"orange\", \"kiwi\", \"melon\", \"mango\"]\n",
    "print(thislist[-4:-1])\n",
    "```\n",
    "\n",
    "We can use open-ended ranges. \n",
    "\n",
    "```python\n",
    "L = ['cc', 'dd', ['eee', 'fff']]\n",
    "L[0:]\n",
    "```\n",
    "returns all the elements from the first to the last.\n",
    "\n",
    "```python\n",
    "L = ['cc', 'dd', ['eee', 'fff']]\n",
    "L[1:]\n",
    "```\n",
    "returns all the elements but the first.\n",
    "\n",
    "```python\n",
    "L = ['cc', 'dd', ['eee', 'fff']]\n",
    "L[:2]\n",
    "```\n",
    "returns all the elements from the first to the second (index = 1). "
   ]
  },
  {
   "cell_type": "code",
   "execution_count": null,
   "metadata": {},
   "outputs": [],
   "source": [
    "L = ['cc', 'dd', ['eee', 'fff']]\n",
    "# this returns the last element in the list\n",
    "L[-1]"
   ]
  },
  {
   "cell_type": "code",
   "execution_count": null,
   "metadata": {},
   "outputs": [],
   "source": [
    "L = ['cc', 'dd', ['eee', 'fff']]\n",
    "L[1:]"
   ]
  },
  {
   "cell_type": "code",
   "execution_count": null,
   "metadata": {},
   "outputs": [],
   "source": [
    "L = ['cc', 'dd', ['eee', 'fff']]\n",
    "L[:2]"
   ]
  },
  {
   "cell_type": "code",
   "execution_count": null,
   "metadata": {},
   "outputs": [],
   "source": [
    "L = [56, 78, 21, 34, 67, 91, 5]\n",
    "\n",
    "print(len(L))\n",
    "\n",
    "print(L[1:])"
   ]
  },
  {
   "cell_type": "markdown",
   "metadata": {},
   "source": [
    "### Subset and calculate\n",
    "\n",
    "Given a list of numbers (integers or floats...) we can select (subset) some elements and do calculations on them. \n"
   ]
  },
  {
   "cell_type": "code",
   "execution_count": 1,
   "metadata": {},
   "outputs": [
    {
     "name": "stdout",
     "output_type": "stream",
     "text": [
      "113\n"
     ]
    }
   ],
   "source": [
    "# define a list\n",
    "L = [23, 12, 67, 90]\n",
    "\n",
    "# sum two elements: 23 + 90 and store the result in the variable named s\n",
    "s = L[0] + L[-1]\n",
    "\n",
    "#print the result\n",
    "print(s)\n"
   ]
  },
  {
   "cell_type": "code",
   "execution_count": 3,
   "metadata": {},
   "outputs": [
    {
     "name": "stdout",
     "output_type": "stream",
     "text": [
      "[12, 67]\n"
     ]
    }
   ],
   "source": [
    "# Let's exercise with slicing and dicing \n",
    "# Extract the first and second element from L\n",
    "L2 = L[1:3]\n",
    "print(L2)"
   ]
  },
  {
   "cell_type": "markdown",
   "metadata": {},
   "source": [
    "## Manipulating  lists\n",
    "\n",
    "The are several operations we can do with lists, such as adding or removing elements, deciding where to add an element or what element to remove, concatenate lists and so on. \n",
    "\n",
    "The first operation we see is **updating an element** in a list (changing the value of an element):\n",
    "```python\n",
    "L = [23, 34, 56, 22]\n",
    "#change 34 into 45\n",
    "L[1] = 45\n",
    "```\n",
    "The steps are: access the element you want to update (<span style=\"font-family:courier\">L[1]</span> in this case) and then change the value (<span style=\"font-family:courier\">= 45</span>).\n",
    "\n",
    "We can update multiple elements at one time using slicing.\n",
    "```python\n",
    "L = [23, 34, 56, 22]\n",
    "# update both the elements with index 1 and 2\n",
    "L[1:3] = [45, 72]\n",
    "```\n",
    "\n",
    "**Adding a new element** to a list:\n",
    "\n",
    "```python\n",
    "L = [23, 34, 56, 22]\n",
    "#add an element \n",
    "L2 = L + [74] \n",
    "```\n",
    "You can add one or more elements at the end of list by using the + operator. \n",
    "You can add one or more elements at the beginning of a list in the same way.\n",
    "```python\n",
    "L = [23, 34, 56, 22]\n",
    "#add elements at the beginning of L\n",
    "L2 = [74, 89] + L \n",
    "```\n",
    "\n",
    "An alternative is to **append** an element at the end of a list. \n",
    "```python\n",
    "L = [23, 34, 56, 22]\n",
    "#add an element \n",
    "L2 = L.append(74) \n",
    "```\n",
    "<span style=\"font-family:courier\">append()</span> is a **list method**. Methods are applied to Python objects such as lists by using the flag char <span style=\"font-family:courier\">.</span>. The synthax is <span style=\"font-family:courier\">object_name.method_name</span> where <span style=\"font-family:courier\">object_name</span> can be, for instance, the name of the list and <span style=\"font-family:courier\">method_name</span> can be, for instance, <span style=\"font-family:courier\">append()</span>. Given a method, the *arguments* or inputs are passed to the method by specifying them within the parentheses; for instance in <span style=\"font-family:courier\">append(x)</span>, x is the argument of the method append. \n",
    "\n",
    "There are many other methods for lists, such as <span style=\"font-family:courier\">list.insert(i, x)</span> that allows us to insert the element _x_ in the index _i_ of _list_. \n",
    "```python\n",
    "L = [23, 34, 56, 22]\n",
    "#add an element at a specific index\n",
    "L.insert(1,74) \n",
    "```\n",
    "The fragment above shows how to add the number 74 in position 1 of L. As you see, originally in position 1, there is the number 34, this means that all the original elements from 1 to the end of the list are shifted to the right by one position and 74 is inserted in the empty space created in position 1.\n",
    "\n",
    "\n",
    "You can also **remove elements** from your list. You can do this with the del statement:\n",
    "```python\n",
    "L = [\"a\", \"b\", \"c\", \"d\"]\n",
    "del(L[1])\n",
    "```\n",
    "In this case we delete the element with index 1 in the list L. \n",
    "The _del_ statement removes an element from a list by using its index within the list. \n",
    "\n",
    "On the other hand, the method _remove()_, removes an element from a list by **value**.\n",
    "\n",
    "```python\n",
    "L = [\"apple\", \"banana\", \"cherry\"]\n",
    "L.remove(\"banana\")\n",
    "# or\n",
    "L = [23, 34, 56, 22]\n",
    "L.remove(22)\n",
    "# which is equivalent to \n",
    "L = [23, 34, 56, 22]\n",
    "del(L[-1])\n",
    "```"
   ]
  },
  {
   "cell_type": "code",
   "execution_count": 4,
   "metadata": {},
   "outputs": [
    {
     "name": "stdout",
     "output_type": "stream",
     "text": [
      "34\n"
     ]
    }
   ],
   "source": [
    "L = [23, 34, 56, 22]\n",
    "print(L[1])\n"
   ]
  },
  {
   "cell_type": "code",
   "execution_count": 13,
   "metadata": {},
   "outputs": [
    {
     "name": "stdout",
     "output_type": "stream",
     "text": [
      "45\n",
      "[23, 45, 56, 8]\n"
     ]
    }
   ],
   "source": [
    "#change 34 into 45\n",
    "L[1] = 45\n",
    "print(L[1])\n",
    "\n",
    "print(L)"
   ]
  },
  {
   "cell_type": "code",
   "execution_count": 14,
   "metadata": {},
   "outputs": [
    {
     "name": "stdout",
     "output_type": "stream",
     "text": [
      "[23, 45, 56, 8]\n"
     ]
    }
   ],
   "source": [
    "print(L)"
   ]
  },
  {
   "cell_type": "code",
   "execution_count": 15,
   "metadata": {},
   "outputs": [],
   "source": [
    "L[2] = [3,4]"
   ]
  },
  {
   "cell_type": "code",
   "execution_count": 16,
   "metadata": {},
   "outputs": [
    {
     "name": "stdout",
     "output_type": "stream",
     "text": [
      "[23, 45, [3, 4], 8]\n"
     ]
    }
   ],
   "source": [
    "print(L)"
   ]
  },
  {
   "cell_type": "code",
   "execution_count": 20,
   "metadata": {},
   "outputs": [
    {
     "name": "stdout",
     "output_type": "stream",
     "text": [
      "[23, 34, 56, 22]\n",
      "[23, 45, 29, 7]\n"
     ]
    }
   ],
   "source": [
    "# update multiple elements in a list\n",
    "L = [23, 34, 56, 22]\n",
    "print(L)\n",
    "#change 34 into 45\n",
    "L[1:4] = [45, 29, 7]\n",
    "\n",
    "print(L)"
   ]
  },
  {
   "cell_type": "code",
   "execution_count": 23,
   "metadata": {},
   "outputs": [
    {
     "name": "stdout",
     "output_type": "stream",
     "text": [
      "[23, 34, 56, 22, 4]\n"
     ]
    }
   ],
   "source": [
    "# add an element\n",
    "L = [23, 34, 56, 22]\n",
    "#add an element \n",
    "L += [4]\n",
    "# L = L + [4]\n",
    "print(L)"
   ]
  },
  {
   "cell_type": "code",
   "execution_count": 26,
   "metadata": {},
   "outputs": [
    {
     "data": {
      "text/plain": [
       "[23, 34, 56, 22, 74, 74]"
      ]
     },
     "execution_count": 26,
     "metadata": {},
     "output_type": "execute_result"
    }
   ],
   "source": [
    "L = [23, 34, 56, 22]\n",
    "#add an element \n",
    "L += [74]\n",
    "L.append(74)\n",
    "L"
   ]
  },
  {
   "cell_type": "code",
   "execution_count": 27,
   "metadata": {},
   "outputs": [
    {
     "data": {
      "text/plain": [
       "[23, 34, 56, 22, 74, 89]"
      ]
     },
     "execution_count": 27,
     "metadata": {},
     "output_type": "execute_result"
    }
   ],
   "source": [
    "# add multiple elements at the end\n",
    "L = [23, 34, 56, 22]\n",
    "#add an element \n",
    "L2 = L + [74, 89]\n",
    "L2"
   ]
  },
  {
   "cell_type": "code",
   "execution_count": 28,
   "metadata": {},
   "outputs": [
    {
     "data": {
      "text/plain": [
       "[74, 89, 23, 34, 56, 22]"
      ]
     },
     "execution_count": 28,
     "metadata": {},
     "output_type": "execute_result"
    }
   ],
   "source": [
    "L = [23, 34, 56, 22]\n",
    "#add elements at the beginning of L\n",
    "L2 = [74, 89] + L \n",
    "L2"
   ]
  },
  {
   "cell_type": "code",
   "execution_count": 34,
   "metadata": {},
   "outputs": [
    {
     "name": "stdout",
     "output_type": "stream",
     "text": [
      "L before the insertion of the new element: [23, 34, 56, 22] with length: 4\n",
      "L after the insertion of 74 at index 1: [23, 74, 34, 56, 22] with length: 5\n"
     ]
    }
   ],
   "source": [
    "L = [23, 34, 56, 22]\n",
    "print(\"L before the insertion of the new element: \" + str(L) + \" with length: \" + str(len(L)))\n",
    "#add an element at a specific index\n",
    "L.insert(1,74) \n",
    "print(\"L after the insertion of 74 at index 1: \" + str(L) + \" with length: \" + str(len(L)))"
   ]
  },
  {
   "cell_type": "code",
   "execution_count": 45,
   "metadata": {},
   "outputs": [
    {
     "data": {
      "text/plain": [
       "[1, 2, 5, 4]"
      ]
     },
     "execution_count": 45,
     "metadata": {},
     "output_type": "execute_result"
    }
   ],
   "source": [
    "L = [1,2,4]\n",
    "\n",
    "L.insert(2,5)\n",
    "L"
   ]
  },
  {
   "cell_type": "code",
   "execution_count": 46,
   "metadata": {},
   "outputs": [
    {
     "data": {
      "text/plain": [
       "['a', 'c', 'd']"
      ]
     },
     "execution_count": 46,
     "metadata": {},
     "output_type": "execute_result"
    }
   ],
   "source": [
    "# delete a specific element in a list\n",
    "L = [\"a\", \"b\", \"c\", \"d\"]\n",
    "# here, we delete the element \"b\"\n",
    "del(L[1])\n",
    "L"
   ]
  },
  {
   "cell_type": "code",
   "execution_count": 1,
   "metadata": {},
   "outputs": [
    {
     "data": {
      "text/plain": [
       "[34, 56, 22]"
      ]
     },
     "execution_count": 1,
     "metadata": {},
     "output_type": "execute_result"
    }
   ],
   "source": [
    "L = [23, 34, 56, 22]\n",
    "#method\n",
    "L.remove(23)\n",
    "L"
   ]
  },
  {
   "cell_type": "code",
   "execution_count": 54,
   "metadata": {},
   "outputs": [
    {
     "name": "stdout",
     "output_type": "stream",
     "text": [
      "3\n",
      "3\n"
     ]
    }
   ],
   "source": [
    "a = 3\n",
    "b = a\n",
    "print(b)\n",
    "a = 4\n",
    "print(b)"
   ]
  },
  {
   "cell_type": "code",
   "execution_count": 1,
   "metadata": {},
   "outputs": [
    {
     "name": "stdout",
     "output_type": "stream",
     "text": [
      "list1: [23, 45, 12]\n",
      "list2: [23, 45, 12]\n"
     ]
    }
   ],
   "source": [
    "list1 = [23, 45, 12]\n",
    "list2 = list1\n",
    "print(\"list1: \" + str(list1))\n",
    "print(\"list2: \" + str(list2))"
   ]
  },
  {
   "cell_type": "code",
   "execution_count": 2,
   "metadata": {},
   "outputs": [
    {
     "name": "stdout",
     "output_type": "stream",
     "text": [
      "[23, 45, 12, 24]\n"
     ]
    }
   ],
   "source": [
    "list1.append(24)\n",
    "print(list1)"
   ]
  },
  {
   "cell_type": "code",
   "execution_count": 3,
   "metadata": {},
   "outputs": [
    {
     "name": "stdout",
     "output_type": "stream",
     "text": [
      "[23, 45, 12, 24]\n"
     ]
    }
   ],
   "source": [
    "print(list2)"
   ]
  },
  {
   "cell_type": "code",
   "execution_count": 4,
   "metadata": {},
   "outputs": [
    {
     "name": "stdout",
     "output_type": "stream",
     "text": [
      "2\n",
      "1\n"
     ]
    }
   ],
   "source": [
    "a = 1\n",
    "b = a\n",
    "\n",
    "a += 1\n",
    "\n",
    "print(a)\n",
    "print(b)"
   ]
  },
  {
   "cell_type": "code",
   "execution_count": 6,
   "metadata": {},
   "outputs": [
    {
     "name": "stdout",
     "output_type": "stream",
     "text": [
      "[1, 2, 3, 4]\n",
      "[1, 2, 3, 4]\n"
     ]
    }
   ],
   "source": [
    "L = [1,2,3]\n",
    "L2 = L\n",
    "\n",
    "L.append(4)\n",
    "\n",
    "print(L)\n",
    "print(L2)"
   ]
  },
  {
   "cell_type": "markdown",
   "metadata": {},
   "source": [
    "### Copying lists\n",
    "You cannot copy a list simply by typing \n",
    "```python \n",
    "list2 = list1\n",
    "```\n",
    "because: list2 will only be a **reference** to list1, and changes made in list1 will automatically also be made in list2."
   ]
  },
  {
   "cell_type": "code",
   "execution_count": 61,
   "metadata": {},
   "outputs": [
    {
     "name": "stdout",
     "output_type": "stream",
     "text": [
      "list1: [23, 45, 12]\n",
      "list2: [23, 45, 12]\n",
      "list1: [23, 34, 45, 12]\n",
      "list2: [23, 34, 45, 12]\n",
      "list1: [23, 56, 34, 45, 12]\n",
      "list2: [23, 56, 34, 45, 12]\n"
     ]
    }
   ],
   "source": [
    "list1 = [23, 45, 12]\n",
    "list2 = list1\n",
    "print(\"list1: \" + str(list1))\n",
    "print(\"list2: \" + str(list2))\n",
    "\n",
    "# we modify only list 1, but also list 2 is updated -> effect of referencing instead of copying.\n",
    "list1.insert(1,34)\n",
    "print(\"list1: \" + str(list1))\n",
    "print(\"list2: \" + str(list2))\n",
    "\n",
    "# we modify only list 2, but also list 1 is updated -> effect of referencing instead of copying.\n",
    "list2.insert(1,56)\n",
    "print(\"list1: \" + str(list1))\n",
    "print(\"list2: \" + str(list2))"
   ]
  },
  {
   "cell_type": "markdown",
   "metadata": {},
   "source": [
    "There are ways to make a copy, one way is to use the built-in List method <code>copy()</code>.\n",
    "```python \n",
    "list1 = list2\n",
    "```\n",
    "only copy the reference of list2 to list1. Whereas, \n",
    "```python \n",
    "list2 = list1.copy()\n",
    "```\n",
    "creates an independent copy of the list. "
   ]
  },
  {
   "cell_type": "code",
   "execution_count": 2,
   "metadata": {},
   "outputs": [
    {
     "name": "stdout",
     "output_type": "stream",
     "text": [
      "list1: [23, 45, 12]\n",
      "list2: [23, 45, 12]\n",
      "list1: [23, 56, 45, 12]\n",
      "list2: [23, 56, 45, 12]\n",
      "list1: [23, 34, 56, 45, 12]\n",
      "list2: [23, 56, 45, 12]\n"
     ]
    }
   ],
   "source": [
    "list1 = [23, 45, 12]\n",
    "list2 = list1\n",
    "\n",
    "print(\"list1: \" + str(list1))\n",
    "print(\"list2: \" + str(list2))\n",
    "\n",
    "list1.insert(1,56)\n",
    "\n",
    "print(\"list1: \" + str(list1))\n",
    "print(\"list2: \" + str(list2))\n",
    "\n",
    "\n",
    "list2 = list1.copy()\n",
    "\n",
    "# we modify only list 1, but list 2 is not updated\n",
    "list1.insert(1,34)\n",
    "print(\"list1: \" + str(list1))\n",
    "print(\"list2: \" + str(list2))"
   ]
  },
  {
   "cell_type": "markdown",
   "metadata": {},
   "source": [
    "### Search an item in a list\n",
    "\n",
    "We can check if a list contains an item by using the _in_ command.\n",
    "```python\n",
    "23 in list1\n",
    "```\n",
    "returns True if the value 23 in in list1, False otherwise. \n",
    "this command is very useful if used with the conditional statements (e.g., if-then-else)"
   ]
  },
  {
   "cell_type": "code",
   "execution_count": 3,
   "metadata": {},
   "outputs": [
    {
     "name": "stdout",
     "output_type": "stream",
     "text": [
      "[23, 34, 56, 45, 12]\n",
      "is 23 in list1?: True\n",
      "is 22 in list1?: False\n"
     ]
    }
   ],
   "source": [
    "print(list1)\n",
    "print(\"is 23 in list1?: \" + str(23 in list1))\n",
    "print(\"is 22 in list1?: \" + str(22 in list1))"
   ]
  },
  {
   "cell_type": "code",
   "metadata": {
    "ExecuteTime": {
     "end_time": "2025-09-17T21:30:05.449747Z",
     "start_time": "2025-09-17T21:30:05.444439Z"
    }
   },
   "source": [
    "L = [45, \"pippo\", 1, 56]\n",
    "\n",
    "print(f\"this is the answer {45 in L}\")"
   ],
   "outputs": [
    {
     "name": "stdout",
     "output_type": "stream",
     "text": [
      "this is the answer True\n"
     ]
    }
   ],
   "execution_count": 3
  },
  {
   "cell_type": "markdown",
   "metadata": {},
   "source": [
    "The method <code>list.index(x)</code> returns the index of the item <code>x</code> in the list. \n",
    "\n",
    "If the item is NOT in the list, then the method returns an error. "
   ]
  },
  {
   "cell_type": "code",
   "execution_count": 76,
   "metadata": {},
   "outputs": [
    {
     "name": "stdout",
     "output_type": "stream",
     "text": [
      "True\n"
     ]
    },
    {
     "data": {
      "text/plain": [
       "1"
      ]
     },
     "execution_count": 76,
     "metadata": {},
     "output_type": "execute_result"
    }
   ],
   "source": [
    "list1 = [22, 34, 56, 74]\n",
    "\n",
    "print(34 in list1)\n",
    "\n",
    "# the item 34 is in the list\n",
    "list1.index(34)"
   ]
  },
  {
   "cell_type": "code",
   "execution_count": 77,
   "metadata": {},
   "outputs": [
    {
     "ename": "ValueError",
     "evalue": "2 is not in list",
     "output_type": "error",
     "traceback": [
      "\u001B[0;31m---------------------------------------------------------------------------\u001B[0m",
      "\u001B[0;31mValueError\u001B[0m                                Traceback (most recent call last)",
      "\u001B[0;32m/var/folders/lr/17v108_160v97stfzzcqxtyc0000gn/T/ipykernel_5168/598673216.py\u001B[0m in \u001B[0;36m<module>\u001B[0;34m\u001B[0m\n\u001B[1;32m      1\u001B[0m \u001B[0;31m# the item 2 is NOT in the list, an error is returned.\u001B[0m\u001B[0;34m\u001B[0m\u001B[0;34m\u001B[0m\u001B[0m\n\u001B[0;32m----> 2\u001B[0;31m \u001B[0mlist1\u001B[0m\u001B[0;34m.\u001B[0m\u001B[0mindex\u001B[0m\u001B[0;34m(\u001B[0m\u001B[0;36m2\u001B[0m\u001B[0;34m)\u001B[0m\u001B[0;34m\u001B[0m\u001B[0;34m\u001B[0m\u001B[0m\n\u001B[0m",
      "\u001B[0;31mValueError\u001B[0m: 2 is not in list"
     ]
    }
   ],
   "source": [
    "# the item 2 is NOT in the list, an error is returned.\n",
    "list1.index(2)"
   ]
  }
 ],
 "metadata": {
  "celltoolbar": "Slideshow",
  "kernelspec": {
   "display_name": "Python 3 (ipykernel)",
   "language": "python",
   "name": "python3"
  },
  "language_info": {
   "codemirror_mode": {
    "name": "ipython",
    "version": 3
   },
   "file_extension": ".py",
   "mimetype": "text/x-python",
   "name": "python",
   "nbconvert_exporter": "python",
   "pygments_lexer": "ipython3",
   "version": "3.9.7"
  }
 },
 "nbformat": 4,
 "nbformat_minor": 4
}
