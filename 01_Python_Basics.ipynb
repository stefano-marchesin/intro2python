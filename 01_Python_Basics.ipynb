{
 "cells": [
  {
   "cell_type": "markdown",
   "metadata": {
    "slideshow": {
     "slide_type": "slide"
    }
   },
   "source": [
    "#  Introduzione alla Programmazione Python, ver. 0.1\n",
    "\n",
    "## Progetto DIGA\n",
    "\n",
    "### Computational Thinking, Chapter 1\n",
    "\n",
    "#### Stefano Marchesin\n",
    "<a href=\"mailto:stefano.marchesin@unipd.it\">stefano.marchesin@unipd.it</a><br/>\n",
    "University of Padua, Italy<br/>",
    "\n",
    "(Courtesy of Gianmaria Silvello, CT 2024-2025, Communication Strategies)"
   ]
  },
  {
   "cell_type": "markdown",
   "metadata": {
    "slideshow": {
     "slide_type": "slide"
    }
   },
   "source": [
    "## Programming Basics\n",
    "\n",
    "Computer programs usually execute three main passages:\n",
    "- receive an input;\n",
    "- execute some calculations;\n",
    "- return an output.\n",
    "\n",
    "Most common inputs are received from a user by using the keybord. For instance, a number or a string (text).\n",
    "The output of a program can be returned to the user as a value or can be printed/displayed to the user. \n"
   ]
  },
  {
   "cell_type": "markdown",
   "metadata": {
    "slideshow": {
     "slide_type": "slide"
    }
   },
   "source": [
    "# Python Language Basics"
   ]
  },
  {
   "cell_type": "markdown",
   "metadata": {},
   "source": [
    "## Comments\n",
    "\n",
    "An important instruction in Python (and all other languages too) is **comment**.\n",
    "\n",
    "Comments are not executed, but they are used to describe the code to humans. \n",
    "Comments are also called \"invisible elements\", because they are invisible to the machine. \n",
    "\n",
    "In Python comments are preceded by a # symbol.\n",
    "\n",
    "The following is a comment in Python:\n",
    "\n",
    "```python\n",
    "# This is a comment\n",
    "```"
   ]
  },
  {
   "cell_type": "markdown",
   "metadata": {
    "slideshow": {
     "slide_type": "slide"
    }
   },
   "source": [
    "## Print\n",
    "\n",
    "One of the most common istructions is the <code>print</code> command. \n",
    "\n",
    "<code>print</code> display a given value to the screen. \n",
    "\n",
    "The syntax of the command is the following:\n",
    "\n",
    "<code>print(output)</code>\n",
    "\n",
    "where \n",
    "\n",
    "- <code>print</code> is the command or function.\n",
    "- <code>output</code> is the object to be displayed.\n",
    "- <code>( ) </code> are part of the syntax. The parentheses indicate the argument of the print function."
   ]
  },
  {
   "cell_type": "code",
   "execution_count": 1,
   "metadata": {},
   "outputs": [
    {
     "name": "stdout",
     "output_type": "stream",
     "text": [
      "3\n"
     ]
    }
   ],
   "source": [
    "# print an integer value\n",
    "\n",
    "print(3)"
   ]
  },
  {
   "cell_type": "code",
   "execution_count": 2,
   "metadata": {},
   "outputs": [
    {
     "name": "stdout",
     "output_type": "stream",
     "text": [
      "4\n"
     ]
    }
   ],
   "source": [
    "print(4)"
   ]
  },
  {
   "cell_type": "code",
   "execution_count": 3,
   "metadata": {},
   "outputs": [
    {
     "name": "stdout",
     "output_type": "stream",
     "text": [
      "3.5\n"
     ]
    }
   ],
   "source": [
    "# print a float\n",
    "\n",
    "print(3.5)"
   ]
  },
  {
   "cell_type": "code",
   "execution_count": 4,
   "metadata": {},
   "outputs": [
    {
     "ename": "SyntaxError",
     "evalue": "invalid syntax (1289121472.py, line 3)",
     "output_type": "error",
     "traceback": [
      "\u001B[0;36m  File \u001B[0;32m\"/var/folders/lr/17v108_160v97stfzzcqxtyc0000gn/T/ipykernel_37181/1289121472.py\"\u001B[0;36m, line \u001B[0;32m3\u001B[0m\n\u001B[0;31m    print(hello world)\u001B[0m\n\u001B[0m                ^\u001B[0m\n\u001B[0;31mSyntaxError\u001B[0m\u001B[0;31m:\u001B[0m invalid syntax\n"
     ]
    }
   ],
   "source": [
    "# print a string (error)\n",
    "\n",
    "print(hello world)"
   ]
  },
  {
   "cell_type": "markdown",
   "metadata": {},
   "source": [
    "The instruction above is returning an error. \n",
    "This is because a text string cannot be passed as it is to the function, but always need to be between inverted commas.\n",
    "You can use either single (<code>'</code>) or double quotes (<code>\"</code>).\n",
    "We will discuss data type down below. "
   ]
  },
  {
   "cell_type": "code",
   "execution_count": 5,
   "metadata": {},
   "outputs": [
    {
     "name": "stdout",
     "output_type": "stream",
     "text": [
      "Hello World!\n"
     ]
    }
   ],
   "source": [
    "# a correct string print  \n",
    "\n",
    "print(\"Hello World!\")"
   ]
  },
  {
   "cell_type": "markdown",
   "metadata": {},
   "source": [
    "Hey! But how do we print inverted quotes? \n",
    "\n",
    "You need to use triple quotes..."
   ]
  },
  {
   "cell_type": "code",
   "execution_count": 6,
   "metadata": {},
   "outputs": [
    {
     "name": "stdout",
     "output_type": "stream",
     "text": [
      "printing inverted commas: \"\" \n"
     ]
    }
   ],
   "source": [
    "print(\"\"\"printing inverted commas: \"\" \"\"\")"
   ]
  },
  {
   "cell_type": "markdown",
   "metadata": {
    "slideshow": {
     "slide_type": "slide"
    }
   },
   "source": [
    "## Variables\n",
    "\n",
    "<strong>Variable</strong>: name that represents a value stored in the computer memory\n",
    "- Used to access and manipulate data stored in memory\n",
    "- A variable references the value it represents\n",
    "\n",
    "<strong>Assignment statement</strong>: used to create a variable and make it reference data\n",
    "- General format is variable = expression\n",
    "- Example: <code>age = 29</code>\n",
    "- Assignment operator: the equal sign (=)\n",
    "\n",
    "In assignment statement, variable receiving value must be on left side \n",
    "- A variable can be passed as an argument to a function\n",
    "- Variable name should not be enclosed in quote marks\n",
    "- You can only use a variable if a value is assigned to it\n",
    "\n",
    "Variables can contain any type of value and can be updated during the execution of an algorithm.\n",
    "\n",
    "\n",
    "\n",
    "\n",
    "In the following we declare some variables of type integer.\n",
    "\n",
    "```python\n",
    "a = 3\n",
    "```\n",
    "\n",
    "The following instruction returns the *type* of the variable a\n",
    "\n",
    "```python\n",
    "type(a) \n",
    "```\n",
    "\n"
   ]
  },
  {
   "cell_type": "markdown",
   "metadata": {},
   "source": [
    "### Variable naming rules\n",
    "\n",
    "Rules for naming variables in Python:\n",
    "- Variable name cannot be a Python keyword \n",
    "- Variable name cannot contain spaces\n",
    "- First character must be a letter or an underscore\n",
    "    - the first letter <underline>should not</underline> be upper case.\n",
    "- After first character may use letters, digits, or underscores\n",
    "    - please do not use digits! (bad Python) \n",
    "- Variable names are case sensitive\n",
    "\n",
    "Variable name should reflect its use!"
   ]
  },
  {
   "cell_type": "code",
   "execution_count": 42,
   "metadata": {
    "slideshow": {
     "slide_type": "slide"
    }
   },
   "outputs": [
    {
     "name": "stdout",
     "output_type": "stream",
     "text": [
      "<class 'int'>\n"
     ]
    }
   ],
   "source": [
    "# variable declaration and assignment\n",
    "a = 3\n",
    "\n",
    "# type of the variable a\n",
    "# print is the instruction to return the value of the instruction to the user\n",
    "print(type(a))"
   ]
  },
  {
   "cell_type": "markdown",
   "metadata": {},
   "source": [
    "### Variable Reassignment\n",
    "\n",
    "Variables can reference different values while program is running. \n",
    "\n",
    "Garbage collection: removal of values that are no longer referenced by variables \n",
    "    You do not need to take care of this. It is \"automatic\".\n",
    "\n",
    "A variable can refer to item of any type\n",
    "\n",
    "Variable that has been assigned to one type can be reassigned to another type\n"
   ]
  },
  {
   "cell_type": "code",
   "execution_count": 43,
   "metadata": {},
   "outputs": [
    {
     "name": "stdout",
     "output_type": "stream",
     "text": [
      "<class 'str'>\n",
      "-------\n",
      "<class 'int'>\n"
     ]
    }
   ],
   "source": [
    "# text assignment\n",
    "variableOne = \"pippo\"\n",
    "print(type(variableOne))\n",
    "\n",
    "# integer re assignment to the variable\n",
    "variableOne = 3\n",
    "\n",
    "print(\"-------\")\n",
    "\n",
    "print(type(variableOne))"
   ]
  },
  {
   "cell_type": "markdown",
   "metadata": {
    "slideshow": {
     "slide_type": "slide"
    }
   },
   "source": [
    "## Type of data\n",
    "\n",
    "There are several data type. \n",
    "\n",
    "The data type defines what data we are handling and the operations we can do on the data. \n",
    "\n",
    "For instance, if we have an *integer* we can do arithmetic operations."
   ]
  },
  {
   "cell_type": "code",
   "execution_count": 49,
   "metadata": {
    "slideshow": {
     "slide_type": "slide"
    }
   },
   "outputs": [
    {
     "name": "stdout",
     "output_type": "stream",
     "text": [
      "42\n",
      "<class 'int'>\n",
      "42.9\n",
      "<class 'float'>\n",
      "Hey, I'm a Disney character!\n",
      "<class 'str'>\n",
      "True\n",
      "<class 'bool'>\n"
     ]
    }
   ],
   "source": [
    "# declare a variable with name pippo and assign an integer\n",
    "pippo = 42\n",
    "\n",
    "#print the value assigned to the variable\n",
    "print(pippo)\n",
    "\n",
    "# print the type of the variable\n",
    "print(type(pippo))\n",
    "\n",
    "# declare a variable with name pluto and assign a float\n",
    "pluto = 42.9\n",
    "\n",
    "#print the value assigned to the variable\n",
    "print(pluto)\n",
    "\n",
    "# print the type of the variable\n",
    "print(type(pluto))\n",
    "\n",
    "# declare a variable with name paperino and assign a string (str in python). Note that a string requires the double quotes \"\"\n",
    "paperino = \"Hey, I'm a Disney character!\"\n",
    "\n",
    "#print the value assigned to the variable\n",
    "print(paperino)\n",
    "\n",
    "# print the type of the variable\n",
    "print(type(paperino))\n",
    "\n",
    "# declare a variable with name topolino and assign a boolean.\n",
    "topolino = True\n",
    "\n",
    "#print the value assigned to the variable\n",
    "print(topolino)\n",
    "\n",
    "# print the type of the variable\n",
    "print(type(topolino))\n"
   ]
  },
  {
   "cell_type": "markdown",
   "metadata": {},
   "source": [
    "## Arithmetic operators\n",
    "\n",
    "![](../img/arithmetic_ops.png)\n",
    "\n",
    "\n",
    "### How to print the result of operations\n",
    "\n",
    "Try to use some basic arithmetic operators and print the result. To print the results we use the ```python print() ``` command.\n",
    "\n",
    "If we need to print out a string such as \"sum: x + y = \" we need to write what follows\n",
    "\n",
    "```python\n",
    "print(\"sum: x + y = \")\n",
    "```\n",
    "\n",
    "To concatenate the string with z = x+y we need to convert the variable z from the type integer to the type string. \n",
    "\n",
    "```python\n",
    "print(\"sum: x + y = \" + str(x + y))\n",
    "```\n",
    "\n",
    "In this case the ```python + ``` operator is used to *concatenate* two strings and the  ```python str() ``` is used to convert anything to a string.\n",
    "\n",
    "### Arithmetic operations with strings\n",
    "\n",
    "Note that you cannot sum an integer and a string.\n",
    "The following will return an **error**.\n",
    "\n",
    "```python\n",
    "str1 = \"test\"\n",
    "a = 4\n",
    "str1 + a\n",
    "```\n",
    "\n",
    "The following works because we conver the integer into a string\n",
    "```python\n",
    "str1 = \"test\"\n",
    "a = 4\n",
    "str1 + str(a)\n",
    "```"
   ]
  },
  {
   "cell_type": "code",
   "execution_count": 1,
   "metadata": {},
   "outputs": [
    {
     "name": "stdout",
     "output_type": "stream",
     "text": [
      "x = 16\n",
      "y = 7\n",
      "sum: x + y = 23\n",
      "type of z is <class 'int'>\n",
      "subtraction: x - y = 9\n",
      "type  of z is <class 'int'>\n",
      "multiplication: x * y = 112\n",
      "type of z is <class 'int'>\n",
      "division: x / y = 2.2857142857142856\n",
      "type of z is <class 'float'>\n",
      "modulus: x % y = 2\n",
      "type of z is <class 'int'>\n",
      "Some properties of the modulus:\n",
      "if x < y then x%y always returns x\n",
      "2 % 10 = 2\n",
      "if x == y then x%y always returns 0\n",
      "2 % 2 = 0\n"
     ]
    }
   ],
   "source": [
    "# declare and initialize two variables of type integer\n",
    "\n",
    "x = 16\n",
    "y = 7\n",
    "\n",
    "print(\"x = \" + str(x))\n",
    "print(\"y = \" + str(y))\n",
    "\n",
    "# use some basic arithmetic operators and print the result\n",
    "# we use the print command to print out the result\n",
    "# we print out a string \"sum: x + y = \"\n",
    "# and the result of x + y \n",
    "\n",
    "z = x + y\n",
    "print(\"sum: x + y = \" + str(z))\n",
    "print(\"type of z is \" + str(type(z)))\n",
    "\n",
    "z = x - y\n",
    "print(\"subtraction: x - y = \" + str(z))\n",
    "print(\"type  of z is \" + str(type(z)))\n",
    "\n",
    "z = x * y\n",
    "print(\"multiplication: x * y = \" + str(z))\n",
    "print(\"type of z is \" + str(type(z)))\n",
    "      \n",
    "z = x / y\n",
    "print(\"division: x / y = \" + str(z))\n",
    "print(\"type of z is \" + str(type(z)))\n",
    "\n",
    "z = x % y\n",
    "print(\"modulus: x % y = \" + str(z))\n",
    "print(\"type of z is \" + str(type(z)))\n",
    "\n",
    "# Notice some properties of modulus\n",
    "print(\"Some properties of the modulus:\")\n",
    "print(\"if x < y then x%y always returns x\")\n",
    "print(\"2 % 10 = \" + str(2 % 10))\n",
    "\n",
    "print(\"if x == y then x%y always returns 0\")\n",
    "print(\"2 % 2 = \" + str(2 % 2))\n",
    "\n",
    "# try the other operations yourself!"
   ]
  },
  {
   "cell_type": "code",
   "execution_count": 2,
   "metadata": {},
   "outputs": [
    {
     "name": "stdout",
     "output_type": "stream",
     "text": [
      "the modulus of x and y is 0\n"
     ]
    }
   ],
   "source": [
    "x = 6 \n",
    "y = 2\n",
    "\n",
    "print(\"the modulus of x and y is \"+ str(x%y))"
   ]
  },
  {
   "cell_type": "markdown",
   "metadata": {},
   "source": [
    "## Arithmetic Assignment Operators\n",
    "\n",
    "Let's try some of the Arithmetic Assignment Operators we have seen in class.\n",
    "\n",
    "```python \n",
    "age = age + 4\n",
    "```\n",
    "\n",
    "is the same as\n",
    "\n",
    "```python \n",
    "age +=  4\n",
    "```\n",
    "\n",
    "Note that in Python ++age and age++ do not work, so you need to use age += 1"
   ]
  },
  {
   "cell_type": "code",
   "execution_count": 62,
   "metadata": {},
   "outputs": [
    {
     "name": "stdout",
     "output_type": "stream",
     "text": [
      "age= 10\n",
      "age= 14\n",
      "age= 11\n",
      "age= -3\n"
     ]
    }
   ],
   "source": [
    "age = 10\n",
    "print(\"age= \" + str(age))\n",
    "\n",
    "age += 4   \n",
    "print(\"age= \" + str(age))\n",
    "\n",
    "age -= 3     \n",
    "print(\"age= \" + str(age))\n",
    "\n",
    "# notice the major difference of the following line w.r.t. the previous one\n",
    "age =- 3\n",
    "print(\"age= \" + str(age))"
   ]
  },
  {
   "cell_type": "code",
   "execution_count": 64,
   "metadata": {},
   "outputs": [
    {
     "ename": "SyntaxError",
     "evalue": "invalid syntax (3786365279.py, line 2)",
     "output_type": "error",
     "traceback": [
      "\u001B[0;36m  File \u001B[0;32m\"/var/folders/lr/17v108_160v97stfzzcqxtyc0000gn/T/ipykernel_37181/3786365279.py\"\u001B[0;36m, line \u001B[0;32m2\u001B[0m\n\u001B[0;31m    old_age = age++\u001B[0m\n\u001B[0m                   ^\u001B[0m\n\u001B[0;31mSyntaxError\u001B[0m\u001B[0;31m:\u001B[0m invalid syntax\n"
     ]
    }
   ],
   "source": [
    "\n",
    "# this will return an error\n",
    "old_age = age++"
   ]
  },
  {
   "cell_type": "markdown",
   "metadata": {},
   "source": [
    "## Relational operators\n",
    "\n",
    "![](../img/relational_ops.png)\n",
    "\n",
    "Relational comparison returns boolean values: **True** is the comparison is verified, **False** otherwise."
   ]
  },
  {
   "cell_type": "code",
   "execution_count": 65,
   "metadata": {},
   "outputs": [
    {
     "name": "stdout",
     "output_type": "stream",
     "text": [
      "is a < b? True\n",
      "is a > b? False\n",
      "is a == b? False\n",
      "is a == 23? True\n",
      "is a != b? True\n"
     ]
    }
   ],
   "source": [
    "a = 23\n",
    "b = 42\n",
    "\n",
    "print(\"is a < b? \" + str(a < b))\n",
    "print(\"is a > b? \" + str(a > b))\n",
    "print(\"is a == b? \" + str(a == b))\n",
    "print(\"is a == 23? \" + str(a == 23))\n",
    "print(\"is a != b? \" + str(a != b))"
   ]
  },
  {
   "cell_type": "markdown",
   "metadata": {},
   "source": [
    "## Casting\n",
    "\n",
    "There may be times when you want to specify a <code>type</code> on to a variable (examples from https://www.w3schools.com/python/python_casting.asp). \n",
    "\n",
    "Casting in python is therefore done using constructor functions:\n",
    "\n",
    "<code>**int()**</code> - constructs an integer number from an integer literal, a float literal (by rounding down to the previous whole number), or a string literal (providing the string represents a whole number)\n",
    "\n",
    "<code>**float()**</code> - constructs a float number from an integer literal, a float literal or a string literal (providing the string represents a float or an integer)\n",
    "\n",
    "<code>**str()**</code> - constructs a string from a wide variety of data types, including strings, integer literals and float literals"
   ]
  },
  {
   "cell_type": "code",
   "execution_count": 2,
   "metadata": {},
   "outputs": [
    {
     "name": "stdout",
     "output_type": "stream",
     "text": [
      "1\n",
      "2\n",
      "3\n"
     ]
    }
   ],
   "source": [
    "x = int(1)   # x will be 1\n",
    "print(x)\n",
    "\n",
    "y = int(2.8) # y will be 2\n",
    "print(y)\n",
    "\n",
    "z = int(\"3\") # z will be 3\n",
    "print(z)\n",
    "\n"
   ]
  },
  {
   "cell_type": "code",
   "execution_count": 12,
   "metadata": {},
   "outputs": [
    {
     "name": "stdout",
     "output_type": "stream",
     "text": [
      "1.0\n",
      "2.8\n",
      "3.0\n",
      "4.2\n"
     ]
    }
   ],
   "source": [
    "x = float(1)     # x will be 1.0\n",
    "print(x)\n",
    "y = float(2.8)   # y will be 2.8\n",
    "print(y)\n",
    "z = float(\"3\")   # z will be 3.0\n",
    "print(z)\n",
    "w = float(\"4.2\") # w will be 4.2\n",
    "print(w)"
   ]
  },
  {
   "cell_type": "code",
   "execution_count": 13,
   "metadata": {},
   "outputs": [
    {
     "name": "stdout",
     "output_type": "stream",
     "text": [
      "s1\n",
      "2\n",
      "3.0\n"
     ]
    }
   ],
   "source": [
    "x = str(\"s1\") # x will be 's1'\n",
    "print(x)\n",
    "y = str(2)    # y will be '2'\n",
    "print(y)\n",
    "z = str(3.0)  # z will be '3.0'\n",
    "print(z)"
   ]
  },
  {
   "cell_type": "markdown",
   "metadata": {},
   "source": [
    "## Displaying Formatted Output with F-strings \n",
    "\n",
    "An f-string is a special type of string literal that is prefixed with the letter f"
   ]
  },
  {
   "cell_type": "code",
   "execution_count": 14,
   "metadata": {},
   "outputs": [
    {
     "name": "stdout",
     "output_type": "stream",
     "text": [
      "Hello world\n",
      "Hello world\n"
     ]
    }
   ],
   "source": [
    "print(f'Hello world')\n",
    "print('Hello world')"
   ]
  },
  {
   "cell_type": "markdown",
   "metadata": {},
   "source": [
    "F-strings support placeholders for variables"
   ]
  },
  {
   "cell_type": "code",
   "execution_count": 16,
   "metadata": {},
   "outputs": [
    {
     "name": "stdout",
     "output_type": "stream",
     "text": [
      "Hello Peter.\n",
      "Hello Peter.\n"
     ]
    }
   ],
   "source": [
    "name = 'Peter'\n",
    "\n",
    "print(f'Hello {name}.')\n",
    "\n",
    "print('Hello ' + name + '.')"
   ]
  },
  {
   "cell_type": "markdown",
   "metadata": {},
   "source": [
    "Placeholders can also be expressions that are evaluated"
   ]
  },
  {
   "cell_type": "code",
   "execution_count": 19,
   "metadata": {},
   "outputs": [
    {
     "name": "stdout",
     "output_type": "stream",
     "text": [
      "The value is 12.\n",
      "The value is 13.\n",
      "The value is 13.\n"
     ]
    }
   ],
   "source": [
    "print(f'The value is {10 + 2}.')\n",
    "\n",
    "val = 10\n",
    "\n",
    "result = val + 3\n",
    "\n",
    "print(f'The value is {result}.')\n",
    "\n",
    "print('The value is ' + str(result) + '.')\n"
   ]
  },
  {
   "cell_type": "markdown",
   "metadata": {},
   "source": [
    "Format specifiers can be used with placeholders"
   ]
  },
  {
   "cell_type": "code",
   "execution_count": 70,
   "metadata": {},
   "outputs": [
    {
     "name": "stdout",
     "output_type": "stream",
     "text": [
      "123.46\n",
      "add commas and round: 100,000,000.46\n"
     ]
    }
   ],
   "source": [
    "num = 123.456789\n",
    "print(f'{num:.2f}')\n",
    "\n",
    "num = 100000000.4562119\n",
    "print(f'add commas and round: {num:,.2f}')"
   ]
  },
  {
   "cell_type": "markdown",
   "metadata": {},
   "source": [
    "<code>.2f</code> means:\n",
    "- round the value to 2 decimal places\n",
    "- display the value as a floating-point number"
   ]
  },
  {
   "cell_type": "code",
   "execution_count": 83,
   "metadata": {},
   "outputs": [
    {
     "name": "stdout",
     "output_type": "stream",
     "text": [
      "23568689\n",
      "23568689.187654\n",
      "<class 'float'>\n"
     ]
    }
   ],
   "source": [
    "num = 23568689.187654\n",
    "\n",
    "\n",
    "print(f'{num:.0f}')\n",
    "print(num)\n",
    "print(type(num))"
   ]
  },
  {
   "cell_type": "code",
   "execution_count": null,
   "metadata": {},
   "outputs": [],
   "source": []
  }
 ],
 "metadata": {
  "celltoolbar": "Slideshow",
  "kernelspec": {
   "display_name": "Python 3 (ipykernel)",
   "language": "python",
   "name": "python3"
  },
  "language_info": {
   "codemirror_mode": {
    "name": "ipython",
    "version": 3
   },
   "file_extension": ".py",
   "mimetype": "text/x-python",
   "name": "python",
   "nbconvert_exporter": "python",
   "pygments_lexer": "ipython3",
   "version": "3.9.7"
  }
 },
 "nbformat": 4,
 "nbformat_minor": 4
}
